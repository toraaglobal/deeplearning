{
  "nbformat": 4,
  "nbformat_minor": 0,
  "metadata": {
    "colab": {
      "name": "Fixed_Feature_Extractor.ipynb",
      "provenance": [],
      "collapsed_sections": [
        "eMvdfArHRj7I",
        "3KnVo-JymOUh",
        "QmiIFDJXDsan",
        "icQvTdftMkPq",
        "lCoFRFofMx7p"
      ],
      "machine_shape": "hm",
      "include_colab_link": true
    },
    "kernelspec": {
      "name": "python3",
      "display_name": "Python 3"
    },
    "accelerator": "GPU",
    "widgets": {
      "application/vnd.jupyter.widget-state+json": {
        "1a66398eaa9b4c4cb38a677fc4c75383": {
          "model_module": "@jupyter-widgets/controls",
          "model_name": "HBoxModel",
          "state": {
            "_view_name": "HBoxView",
            "_dom_classes": [],
            "_model_name": "HBoxModel",
            "_view_module": "@jupyter-widgets/controls",
            "_model_module_version": "1.5.0",
            "_view_count": null,
            "_view_module_version": "1.5.0",
            "box_style": "",
            "layout": "IPY_MODEL_6cda6d0e9c0441c793c7cf3ddbf6d303",
            "_model_module": "@jupyter-widgets/controls",
            "children": [
              "IPY_MODEL_a39a258799794f22948d980032c1f46e",
              "IPY_MODEL_4c9dd975e39d4b51ab2bf99e903b7828"
            ]
          }
        },
        "6cda6d0e9c0441c793c7cf3ddbf6d303": {
          "model_module": "@jupyter-widgets/base",
          "model_name": "LayoutModel",
          "state": {
            "_view_name": "LayoutView",
            "grid_template_rows": null,
            "right": null,
            "justify_content": null,
            "_view_module": "@jupyter-widgets/base",
            "overflow": null,
            "_model_module_version": "1.2.0",
            "_view_count": null,
            "flex_flow": null,
            "width": null,
            "min_width": null,
            "border": null,
            "align_items": null,
            "bottom": null,
            "_model_module": "@jupyter-widgets/base",
            "top": null,
            "grid_column": null,
            "overflow_y": null,
            "overflow_x": null,
            "grid_auto_flow": null,
            "grid_area": null,
            "grid_template_columns": null,
            "flex": null,
            "_model_name": "LayoutModel",
            "justify_items": null,
            "grid_row": null,
            "max_height": null,
            "align_content": null,
            "visibility": null,
            "align_self": null,
            "height": null,
            "min_height": null,
            "padding": null,
            "grid_auto_rows": null,
            "grid_gap": null,
            "max_width": null,
            "order": null,
            "_view_module_version": "1.2.0",
            "grid_template_areas": null,
            "object_position": null,
            "object_fit": null,
            "grid_auto_columns": null,
            "margin": null,
            "display": null,
            "left": null
          }
        },
        "a39a258799794f22948d980032c1f46e": {
          "model_module": "@jupyter-widgets/controls",
          "model_name": "FloatProgressModel",
          "state": {
            "_view_name": "ProgressView",
            "style": "IPY_MODEL_886fa42bb40a4524bd56e323c34cba10",
            "_dom_classes": [],
            "description": "",
            "_model_name": "FloatProgressModel",
            "bar_style": "info",
            "max": 1,
            "_view_module": "@jupyter-widgets/controls",
            "_model_module_version": "1.5.0",
            "value": 1,
            "_view_count": null,
            "_view_module_version": "1.5.0",
            "orientation": "horizontal",
            "min": 0,
            "description_tooltip": null,
            "_model_module": "@jupyter-widgets/controls",
            "layout": "IPY_MODEL_74c38352a36c4747ae55e6ba58db1c1e"
          }
        },
        "4c9dd975e39d4b51ab2bf99e903b7828": {
          "model_module": "@jupyter-widgets/controls",
          "model_name": "HTMLModel",
          "state": {
            "_view_name": "HTMLView",
            "style": "IPY_MODEL_666d1f9a6e944484872ba9e2a28b6edf",
            "_dom_classes": [],
            "description": "",
            "_model_name": "HTMLModel",
            "placeholder": "​",
            "_view_module": "@jupyter-widgets/controls",
            "_model_module_version": "1.5.0",
            "value": " 170500096/? [00:20&lt;00:00, 98348582.56it/s]",
            "_view_count": null,
            "_view_module_version": "1.5.0",
            "description_tooltip": null,
            "_model_module": "@jupyter-widgets/controls",
            "layout": "IPY_MODEL_30386e3afb464baf8a06a05ad3352064"
          }
        },
        "886fa42bb40a4524bd56e323c34cba10": {
          "model_module": "@jupyter-widgets/controls",
          "model_name": "ProgressStyleModel",
          "state": {
            "_view_name": "StyleView",
            "_model_name": "ProgressStyleModel",
            "description_width": "initial",
            "_view_module": "@jupyter-widgets/base",
            "_model_module_version": "1.5.0",
            "_view_count": null,
            "_view_module_version": "1.2.0",
            "bar_color": null,
            "_model_module": "@jupyter-widgets/controls"
          }
        },
        "74c38352a36c4747ae55e6ba58db1c1e": {
          "model_module": "@jupyter-widgets/base",
          "model_name": "LayoutModel",
          "state": {
            "_view_name": "LayoutView",
            "grid_template_rows": null,
            "right": null,
            "justify_content": null,
            "_view_module": "@jupyter-widgets/base",
            "overflow": null,
            "_model_module_version": "1.2.0",
            "_view_count": null,
            "flex_flow": null,
            "width": null,
            "min_width": null,
            "border": null,
            "align_items": null,
            "bottom": null,
            "_model_module": "@jupyter-widgets/base",
            "top": null,
            "grid_column": null,
            "overflow_y": null,
            "overflow_x": null,
            "grid_auto_flow": null,
            "grid_area": null,
            "grid_template_columns": null,
            "flex": null,
            "_model_name": "LayoutModel",
            "justify_items": null,
            "grid_row": null,
            "max_height": null,
            "align_content": null,
            "visibility": null,
            "align_self": null,
            "height": null,
            "min_height": null,
            "padding": null,
            "grid_auto_rows": null,
            "grid_gap": null,
            "max_width": null,
            "order": null,
            "_view_module_version": "1.2.0",
            "grid_template_areas": null,
            "object_position": null,
            "object_fit": null,
            "grid_auto_columns": null,
            "margin": null,
            "display": null,
            "left": null
          }
        },
        "666d1f9a6e944484872ba9e2a28b6edf": {
          "model_module": "@jupyter-widgets/controls",
          "model_name": "DescriptionStyleModel",
          "state": {
            "_view_name": "StyleView",
            "_model_name": "DescriptionStyleModel",
            "description_width": "",
            "_view_module": "@jupyter-widgets/base",
            "_model_module_version": "1.5.0",
            "_view_count": null,
            "_view_module_version": "1.2.0",
            "_model_module": "@jupyter-widgets/controls"
          }
        },
        "30386e3afb464baf8a06a05ad3352064": {
          "model_module": "@jupyter-widgets/base",
          "model_name": "LayoutModel",
          "state": {
            "_view_name": "LayoutView",
            "grid_template_rows": null,
            "right": null,
            "justify_content": null,
            "_view_module": "@jupyter-widgets/base",
            "overflow": null,
            "_model_module_version": "1.2.0",
            "_view_count": null,
            "flex_flow": null,
            "width": null,
            "min_width": null,
            "border": null,
            "align_items": null,
            "bottom": null,
            "_model_module": "@jupyter-widgets/base",
            "top": null,
            "grid_column": null,
            "overflow_y": null,
            "overflow_x": null,
            "grid_auto_flow": null,
            "grid_area": null,
            "grid_template_columns": null,
            "flex": null,
            "_model_name": "LayoutModel",
            "justify_items": null,
            "grid_row": null,
            "max_height": null,
            "align_content": null,
            "visibility": null,
            "align_self": null,
            "height": null,
            "min_height": null,
            "padding": null,
            "grid_auto_rows": null,
            "grid_gap": null,
            "max_width": null,
            "order": null,
            "_view_module_version": "1.2.0",
            "grid_template_areas": null,
            "object_position": null,
            "object_fit": null,
            "grid_auto_columns": null,
            "margin": null,
            "display": null,
            "left": null
          }
        },
        "2babf7561206444db92031d874aa07aa": {
          "model_module": "@jupyter-widgets/controls",
          "model_name": "HBoxModel",
          "state": {
            "_view_name": "HBoxView",
            "_dom_classes": [],
            "_model_name": "HBoxModel",
            "_view_module": "@jupyter-widgets/controls",
            "_model_module_version": "1.5.0",
            "_view_count": null,
            "_view_module_version": "1.5.0",
            "box_style": "",
            "layout": "IPY_MODEL_e76fabe203884976a6d57ea6202f7f10",
            "_model_module": "@jupyter-widgets/controls",
            "children": [
              "IPY_MODEL_a6da6aab7a8d45bfab9e0b89de3d983d",
              "IPY_MODEL_b3ed84f28b7142d2874a19d9b89a2175"
            ]
          }
        },
        "e76fabe203884976a6d57ea6202f7f10": {
          "model_module": "@jupyter-widgets/base",
          "model_name": "LayoutModel",
          "state": {
            "_view_name": "LayoutView",
            "grid_template_rows": null,
            "right": null,
            "justify_content": null,
            "_view_module": "@jupyter-widgets/base",
            "overflow": null,
            "_model_module_version": "1.2.0",
            "_view_count": null,
            "flex_flow": null,
            "width": null,
            "min_width": null,
            "border": null,
            "align_items": null,
            "bottom": null,
            "_model_module": "@jupyter-widgets/base",
            "top": null,
            "grid_column": null,
            "overflow_y": null,
            "overflow_x": null,
            "grid_auto_flow": null,
            "grid_area": null,
            "grid_template_columns": null,
            "flex": null,
            "_model_name": "LayoutModel",
            "justify_items": null,
            "grid_row": null,
            "max_height": null,
            "align_content": null,
            "visibility": null,
            "align_self": null,
            "height": null,
            "min_height": null,
            "padding": null,
            "grid_auto_rows": null,
            "grid_gap": null,
            "max_width": null,
            "order": null,
            "_view_module_version": "1.2.0",
            "grid_template_areas": null,
            "object_position": null,
            "object_fit": null,
            "grid_auto_columns": null,
            "margin": null,
            "display": null,
            "left": null
          }
        },
        "a6da6aab7a8d45bfab9e0b89de3d983d": {
          "model_module": "@jupyter-widgets/controls",
          "model_name": "FloatProgressModel",
          "state": {
            "_view_name": "ProgressView",
            "style": "IPY_MODEL_474c71b1a0c14aac921ba9ebe0dbb85b",
            "_dom_classes": [],
            "description": "100%",
            "_model_name": "FloatProgressModel",
            "bar_style": "success",
            "max": 553433881,
            "_view_module": "@jupyter-widgets/controls",
            "_model_module_version": "1.5.0",
            "value": 553433881,
            "_view_count": null,
            "_view_module_version": "1.5.0",
            "orientation": "horizontal",
            "min": 0,
            "description_tooltip": null,
            "_model_module": "@jupyter-widgets/controls",
            "layout": "IPY_MODEL_ca5fa7a346b24cde828e3becf47a5a5c"
          }
        },
        "b3ed84f28b7142d2874a19d9b89a2175": {
          "model_module": "@jupyter-widgets/controls",
          "model_name": "HTMLModel",
          "state": {
            "_view_name": "HTMLView",
            "style": "IPY_MODEL_5fba2625582b43acae232537f501357d",
            "_dom_classes": [],
            "description": "",
            "_model_name": "HTMLModel",
            "placeholder": "​",
            "_view_module": "@jupyter-widgets/controls",
            "_model_module_version": "1.5.0",
            "value": " 528M/528M [16:44&lt;00:00, 551kB/s]",
            "_view_count": null,
            "_view_module_version": "1.5.0",
            "description_tooltip": null,
            "_model_module": "@jupyter-widgets/controls",
            "layout": "IPY_MODEL_bfc0ef180e454e6ba3e76e21c0a4ddb2"
          }
        },
        "474c71b1a0c14aac921ba9ebe0dbb85b": {
          "model_module": "@jupyter-widgets/controls",
          "model_name": "ProgressStyleModel",
          "state": {
            "_view_name": "StyleView",
            "_model_name": "ProgressStyleModel",
            "description_width": "initial",
            "_view_module": "@jupyter-widgets/base",
            "_model_module_version": "1.5.0",
            "_view_count": null,
            "_view_module_version": "1.2.0",
            "bar_color": null,
            "_model_module": "@jupyter-widgets/controls"
          }
        },
        "ca5fa7a346b24cde828e3becf47a5a5c": {
          "model_module": "@jupyter-widgets/base",
          "model_name": "LayoutModel",
          "state": {
            "_view_name": "LayoutView",
            "grid_template_rows": null,
            "right": null,
            "justify_content": null,
            "_view_module": "@jupyter-widgets/base",
            "overflow": null,
            "_model_module_version": "1.2.0",
            "_view_count": null,
            "flex_flow": null,
            "width": null,
            "min_width": null,
            "border": null,
            "align_items": null,
            "bottom": null,
            "_model_module": "@jupyter-widgets/base",
            "top": null,
            "grid_column": null,
            "overflow_y": null,
            "overflow_x": null,
            "grid_auto_flow": null,
            "grid_area": null,
            "grid_template_columns": null,
            "flex": null,
            "_model_name": "LayoutModel",
            "justify_items": null,
            "grid_row": null,
            "max_height": null,
            "align_content": null,
            "visibility": null,
            "align_self": null,
            "height": null,
            "min_height": null,
            "padding": null,
            "grid_auto_rows": null,
            "grid_gap": null,
            "max_width": null,
            "order": null,
            "_view_module_version": "1.2.0",
            "grid_template_areas": null,
            "object_position": null,
            "object_fit": null,
            "grid_auto_columns": null,
            "margin": null,
            "display": null,
            "left": null
          }
        },
        "5fba2625582b43acae232537f501357d": {
          "model_module": "@jupyter-widgets/controls",
          "model_name": "DescriptionStyleModel",
          "state": {
            "_view_name": "StyleView",
            "_model_name": "DescriptionStyleModel",
            "description_width": "",
            "_view_module": "@jupyter-widgets/base",
            "_model_module_version": "1.5.0",
            "_view_count": null,
            "_view_module_version": "1.2.0",
            "_model_module": "@jupyter-widgets/controls"
          }
        },
        "bfc0ef180e454e6ba3e76e21c0a4ddb2": {
          "model_module": "@jupyter-widgets/base",
          "model_name": "LayoutModel",
          "state": {
            "_view_name": "LayoutView",
            "grid_template_rows": null,
            "right": null,
            "justify_content": null,
            "_view_module": "@jupyter-widgets/base",
            "overflow": null,
            "_model_module_version": "1.2.0",
            "_view_count": null,
            "flex_flow": null,
            "width": null,
            "min_width": null,
            "border": null,
            "align_items": null,
            "bottom": null,
            "_model_module": "@jupyter-widgets/base",
            "top": null,
            "grid_column": null,
            "overflow_y": null,
            "overflow_x": null,
            "grid_auto_flow": null,
            "grid_area": null,
            "grid_template_columns": null,
            "flex": null,
            "_model_name": "LayoutModel",
            "justify_items": null,
            "grid_row": null,
            "max_height": null,
            "align_content": null,
            "visibility": null,
            "align_self": null,
            "height": null,
            "min_height": null,
            "padding": null,
            "grid_auto_rows": null,
            "grid_gap": null,
            "max_width": null,
            "order": null,
            "_view_module_version": "1.2.0",
            "grid_template_areas": null,
            "object_position": null,
            "object_fit": null,
            "grid_auto_columns": null,
            "margin": null,
            "display": null,
            "left": null
          }
        }
      }
    }
  },
  "cells": [
    {
      "cell_type": "markdown",
      "metadata": {
        "id": "view-in-github",
        "colab_type": "text"
      },
      "source": [
        "<a href=\"https://colab.research.google.com/github/toraaglobal/deeplearning/blob/pytorch/Fixed_Feature_Extractor.ipynb\" target=\"_parent\"><img src=\"https://colab.research.google.com/assets/colab-badge.svg\" alt=\"Open In Colab\"/></a>"
      ]
    },
    {
      "cell_type": "markdown",
      "metadata": {
        "id": "7z2kILHRWcKg",
        "colab_type": "text"
      },
      "source": [
        "# Transfer learning - Fixed Feature Extractor\n"
      ]
    },
    {
      "cell_type": "markdown",
      "metadata": {
        "id": "eMvdfArHRj7I",
        "colab_type": "text"
      },
      "source": [
        "## Creating and using a Fixed Feature Extractor\n"
      ]
    },
    {
      "cell_type": "code",
      "metadata": {
        "id": "z3w2sce8WXYa",
        "colab_type": "code",
        "colab": {}
      },
      "source": [
        "# Setting seeds to try and ensure we have the same results - this is not guaranteed across PyTorch releases.\n",
        "import torch\n",
        "torch.manual_seed(0)\n",
        "torch.backends.cudnn.deterministic = True\n",
        "torch.backends.cudnn.benchmark = False"
      ],
      "execution_count": 1,
      "outputs": []
    },
    {
      "cell_type": "code",
      "metadata": {
        "id": "GxDchYyEo5Fe",
        "colab_type": "code",
        "colab": {}
      },
      "source": [
        "import torch.nn as nn\n",
        "import torch.nn.functional as F\n",
        "from torchvision import datasets, transforms, models\n",
        "from torch.utils.data import DataLoader"
      ],
      "execution_count": 2,
      "outputs": []
    },
    {
      "cell_type": "code",
      "metadata": {
        "id": "CYMYVmxMpX2z",
        "colab_type": "code",
        "colab": {
          "base_uri": "https://localhost:8080/",
          "height": 34
        },
        "outputId": "ead44bd3-7aa7-4d0e-9b63-15f1bfd17f7d"
      },
      "source": [
        "device = torch.device('cuda' if torch.cuda.is_available() else 'cpu')\n",
        "device"
      ],
      "execution_count": 3,
      "outputs": [
        {
          "output_type": "execute_result",
          "data": {
            "text/plain": [
              "device(type='cuda')"
            ]
          },
          "metadata": {
            "tags": []
          },
          "execution_count": 3
        }
      ]
    },
    {
      "cell_type": "code",
      "metadata": {
        "id": "fJEw9S-Up23y",
        "colab_type": "code",
        "colab": {
          "base_uri": "https://localhost:8080/",
          "height": 83,
          "referenced_widgets": [
            "1a66398eaa9b4c4cb38a677fc4c75383",
            "6cda6d0e9c0441c793c7cf3ddbf6d303",
            "a39a258799794f22948d980032c1f46e",
            "4c9dd975e39d4b51ab2bf99e903b7828",
            "886fa42bb40a4524bd56e323c34cba10",
            "74c38352a36c4747ae55e6ba58db1c1e",
            "666d1f9a6e944484872ba9e2a28b6edf",
            "30386e3afb464baf8a06a05ad3352064"
          ]
        },
        "outputId": "af9352cb-de10-4699-f892-08b226f84cb8"
      },
      "source": [
        "mean = [0.485, 0.456, 0.406]\n",
        "std = [0.229, 0.224, 0.225]\n",
        "\n",
        "transform = transforms.Compose([\n",
        "    transforms.Resize((224, 224)),\n",
        "    transforms.ToTensor(),\n",
        "    transforms.Normalize(mean=mean, std=std)\n",
        "    ])\n",
        "\n",
        "trainset = datasets.CIFAR10(root='~/.pytorch/CIFAR10',train=True, download=True,transform=transform)\n",
        "testset = datasets.CIFAR10(root='~/.pytorch/CIFAR10',train=False, transform=transform)\n",
        "\n",
        "trainloader = DataLoader(trainset, batch_size=64, shuffle=True)\n",
        "testloader = DataLoader(testset, batch_size=64, shuffle=False)"
      ],
      "execution_count": 4,
      "outputs": [
        {
          "output_type": "stream",
          "text": [
            "Downloading https://www.cs.toronto.edu/~kriz/cifar-10-python.tar.gz to /root/.pytorch/CIFAR10/cifar-10-python.tar.gz\n"
          ],
          "name": "stdout"
        },
        {
          "output_type": "display_data",
          "data": {
            "application/vnd.jupyter.widget-view+json": {
              "model_id": "1a66398eaa9b4c4cb38a677fc4c75383",
              "version_minor": 0,
              "version_major": 2
            },
            "text/plain": [
              "HBox(children=(FloatProgress(value=1.0, bar_style='info', max=1.0), HTML(value='')))"
            ]
          },
          "metadata": {
            "tags": []
          }
        },
        {
          "output_type": "stream",
          "text": [
            "Extracting /root/.pytorch/CIFAR10/cifar-10-python.tar.gz to /root/.pytorch/CIFAR10\n"
          ],
          "name": "stdout"
        }
      ]
    },
    {
      "cell_type": "code",
      "metadata": {
        "id": "GjwrsEMR3-6D",
        "colab_type": "code",
        "colab": {
          "base_uri": "https://localhost:8080/",
          "height": 848,
          "referenced_widgets": [
            "2babf7561206444db92031d874aa07aa",
            "e76fabe203884976a6d57ea6202f7f10",
            "a6da6aab7a8d45bfab9e0b89de3d983d",
            "b3ed84f28b7142d2874a19d9b89a2175",
            "474c71b1a0c14aac921ba9ebe0dbb85b",
            "ca5fa7a346b24cde828e3becf47a5a5c",
            "5fba2625582b43acae232537f501357d",
            "bfc0ef180e454e6ba3e76e21c0a4ddb2"
          ]
        },
        "outputId": "868365e5-3555-46cf-d225-8e45579a97be"
      },
      "source": [
        "model = models.vgg16(pretrained=True)\n",
        "model "
      ],
      "execution_count": 5,
      "outputs": [
        {
          "output_type": "stream",
          "text": [
            "Downloading: \"https://download.pytorch.org/models/vgg16-397923af.pth\" to /root/.cache/torch/hub/checkpoints/vgg16-397923af.pth\n"
          ],
          "name": "stderr"
        },
        {
          "output_type": "display_data",
          "data": {
            "application/vnd.jupyter.widget-view+json": {
              "model_id": "2babf7561206444db92031d874aa07aa",
              "version_minor": 0,
              "version_major": 2
            },
            "text/plain": [
              "HBox(children=(FloatProgress(value=0.0, max=553433881.0), HTML(value='')))"
            ]
          },
          "metadata": {
            "tags": []
          }
        },
        {
          "output_type": "stream",
          "text": [
            "\n"
          ],
          "name": "stdout"
        },
        {
          "output_type": "execute_result",
          "data": {
            "text/plain": [
              "VGG(\n",
              "  (features): Sequential(\n",
              "    (0): Conv2d(3, 64, kernel_size=(3, 3), stride=(1, 1), padding=(1, 1))\n",
              "    (1): ReLU(inplace=True)\n",
              "    (2): Conv2d(64, 64, kernel_size=(3, 3), stride=(1, 1), padding=(1, 1))\n",
              "    (3): ReLU(inplace=True)\n",
              "    (4): MaxPool2d(kernel_size=2, stride=2, padding=0, dilation=1, ceil_mode=False)\n",
              "    (5): Conv2d(64, 128, kernel_size=(3, 3), stride=(1, 1), padding=(1, 1))\n",
              "    (6): ReLU(inplace=True)\n",
              "    (7): Conv2d(128, 128, kernel_size=(3, 3), stride=(1, 1), padding=(1, 1))\n",
              "    (8): ReLU(inplace=True)\n",
              "    (9): MaxPool2d(kernel_size=2, stride=2, padding=0, dilation=1, ceil_mode=False)\n",
              "    (10): Conv2d(128, 256, kernel_size=(3, 3), stride=(1, 1), padding=(1, 1))\n",
              "    (11): ReLU(inplace=True)\n",
              "    (12): Conv2d(256, 256, kernel_size=(3, 3), stride=(1, 1), padding=(1, 1))\n",
              "    (13): ReLU(inplace=True)\n",
              "    (14): Conv2d(256, 256, kernel_size=(3, 3), stride=(1, 1), padding=(1, 1))\n",
              "    (15): ReLU(inplace=True)\n",
              "    (16): MaxPool2d(kernel_size=2, stride=2, padding=0, dilation=1, ceil_mode=False)\n",
              "    (17): Conv2d(256, 512, kernel_size=(3, 3), stride=(1, 1), padding=(1, 1))\n",
              "    (18): ReLU(inplace=True)\n",
              "    (19): Conv2d(512, 512, kernel_size=(3, 3), stride=(1, 1), padding=(1, 1))\n",
              "    (20): ReLU(inplace=True)\n",
              "    (21): Conv2d(512, 512, kernel_size=(3, 3), stride=(1, 1), padding=(1, 1))\n",
              "    (22): ReLU(inplace=True)\n",
              "    (23): MaxPool2d(kernel_size=2, stride=2, padding=0, dilation=1, ceil_mode=False)\n",
              "    (24): Conv2d(512, 512, kernel_size=(3, 3), stride=(1, 1), padding=(1, 1))\n",
              "    (25): ReLU(inplace=True)\n",
              "    (26): Conv2d(512, 512, kernel_size=(3, 3), stride=(1, 1), padding=(1, 1))\n",
              "    (27): ReLU(inplace=True)\n",
              "    (28): Conv2d(512, 512, kernel_size=(3, 3), stride=(1, 1), padding=(1, 1))\n",
              "    (29): ReLU(inplace=True)\n",
              "    (30): MaxPool2d(kernel_size=2, stride=2, padding=0, dilation=1, ceil_mode=False)\n",
              "  )\n",
              "  (avgpool): AdaptiveAvgPool2d(output_size=(7, 7))\n",
              "  (classifier): Sequential(\n",
              "    (0): Linear(in_features=25088, out_features=4096, bias=True)\n",
              "    (1): ReLU(inplace=True)\n",
              "    (2): Dropout(p=0.5, inplace=False)\n",
              "    (3): Linear(in_features=4096, out_features=4096, bias=True)\n",
              "    (4): ReLU(inplace=True)\n",
              "    (5): Dropout(p=0.5, inplace=False)\n",
              "    (6): Linear(in_features=4096, out_features=1000, bias=True)\n",
              "  )\n",
              ")"
            ]
          },
          "metadata": {
            "tags": []
          },
          "execution_count": 5
        }
      ]
    },
    {
      "cell_type": "code",
      "metadata": {
        "id": "Bq9GNfsC3-zD",
        "colab_type": "code",
        "colab": {
          "base_uri": "https://localhost:8080/",
          "height": 578
        },
        "outputId": "f1f798f9-17d2-449b-9120-3db6b645ca3d"
      },
      "source": [
        "model.features"
      ],
      "execution_count": 6,
      "outputs": [
        {
          "output_type": "execute_result",
          "data": {
            "text/plain": [
              "Sequential(\n",
              "  (0): Conv2d(3, 64, kernel_size=(3, 3), stride=(1, 1), padding=(1, 1))\n",
              "  (1): ReLU(inplace=True)\n",
              "  (2): Conv2d(64, 64, kernel_size=(3, 3), stride=(1, 1), padding=(1, 1))\n",
              "  (3): ReLU(inplace=True)\n",
              "  (4): MaxPool2d(kernel_size=2, stride=2, padding=0, dilation=1, ceil_mode=False)\n",
              "  (5): Conv2d(64, 128, kernel_size=(3, 3), stride=(1, 1), padding=(1, 1))\n",
              "  (6): ReLU(inplace=True)\n",
              "  (7): Conv2d(128, 128, kernel_size=(3, 3), stride=(1, 1), padding=(1, 1))\n",
              "  (8): ReLU(inplace=True)\n",
              "  (9): MaxPool2d(kernel_size=2, stride=2, padding=0, dilation=1, ceil_mode=False)\n",
              "  (10): Conv2d(128, 256, kernel_size=(3, 3), stride=(1, 1), padding=(1, 1))\n",
              "  (11): ReLU(inplace=True)\n",
              "  (12): Conv2d(256, 256, kernel_size=(3, 3), stride=(1, 1), padding=(1, 1))\n",
              "  (13): ReLU(inplace=True)\n",
              "  (14): Conv2d(256, 256, kernel_size=(3, 3), stride=(1, 1), padding=(1, 1))\n",
              "  (15): ReLU(inplace=True)\n",
              "  (16): MaxPool2d(kernel_size=2, stride=2, padding=0, dilation=1, ceil_mode=False)\n",
              "  (17): Conv2d(256, 512, kernel_size=(3, 3), stride=(1, 1), padding=(1, 1))\n",
              "  (18): ReLU(inplace=True)\n",
              "  (19): Conv2d(512, 512, kernel_size=(3, 3), stride=(1, 1), padding=(1, 1))\n",
              "  (20): ReLU(inplace=True)\n",
              "  (21): Conv2d(512, 512, kernel_size=(3, 3), stride=(1, 1), padding=(1, 1))\n",
              "  (22): ReLU(inplace=True)\n",
              "  (23): MaxPool2d(kernel_size=2, stride=2, padding=0, dilation=1, ceil_mode=False)\n",
              "  (24): Conv2d(512, 512, kernel_size=(3, 3), stride=(1, 1), padding=(1, 1))\n",
              "  (25): ReLU(inplace=True)\n",
              "  (26): Conv2d(512, 512, kernel_size=(3, 3), stride=(1, 1), padding=(1, 1))\n",
              "  (27): ReLU(inplace=True)\n",
              "  (28): Conv2d(512, 512, kernel_size=(3, 3), stride=(1, 1), padding=(1, 1))\n",
              "  (29): ReLU(inplace=True)\n",
              "  (30): MaxPool2d(kernel_size=2, stride=2, padding=0, dilation=1, ceil_mode=False)\n",
              ")"
            ]
          },
          "metadata": {
            "tags": []
          },
          "execution_count": 6
        }
      ]
    },
    {
      "cell_type": "code",
      "metadata": {
        "id": "GQmpRWNF3-jc",
        "colab_type": "code",
        "colab": {
          "base_uri": "https://localhost:8080/",
          "height": 170
        },
        "outputId": "45c1e687-a55d-4e7b-a83a-9a1c0878aaf0"
      },
      "source": [
        "model.classifier"
      ],
      "execution_count": 7,
      "outputs": [
        {
          "output_type": "execute_result",
          "data": {
            "text/plain": [
              "Sequential(\n",
              "  (0): Linear(in_features=25088, out_features=4096, bias=True)\n",
              "  (1): ReLU(inplace=True)\n",
              "  (2): Dropout(p=0.5, inplace=False)\n",
              "  (3): Linear(in_features=4096, out_features=4096, bias=True)\n",
              "  (4): ReLU(inplace=True)\n",
              "  (5): Dropout(p=0.5, inplace=False)\n",
              "  (6): Linear(in_features=4096, out_features=1000, bias=True)\n",
              ")"
            ]
          },
          "metadata": {
            "tags": []
          },
          "execution_count": 7
        }
      ]
    },
    {
      "cell_type": "code",
      "metadata": {
        "id": "zntNd1RP3-g8",
        "colab_type": "code",
        "colab": {}
      },
      "source": [
        "for param in model.parameters():\n",
        "    param.require_grad = False"
      ],
      "execution_count": 8,
      "outputs": []
    },
    {
      "cell_type": "code",
      "metadata": {
        "id": "FREl9ASC3-er",
        "colab_type": "code",
        "colab": {}
      },
      "source": [
        "model.classifier[-1] = nn.Sequential(\n",
        "    nn.Linear(in_features=4096, out_features=10),\n",
        "    nn.LogSoftmax(dim=1)\n",
        ")"
      ],
      "execution_count": 9,
      "outputs": []
    },
    {
      "cell_type": "code",
      "metadata": {
        "id": "7PoaL3Ad3-cL",
        "colab_type": "code",
        "colab": {
          "base_uri": "https://localhost:8080/",
          "height": 221
        },
        "outputId": "f7c84904-e874-42a2-cdbd-6a4e7a9e16db"
      },
      "source": [
        "model.classifier"
      ],
      "execution_count": 10,
      "outputs": [
        {
          "output_type": "execute_result",
          "data": {
            "text/plain": [
              "Sequential(\n",
              "  (0): Linear(in_features=25088, out_features=4096, bias=True)\n",
              "  (1): ReLU(inplace=True)\n",
              "  (2): Dropout(p=0.5, inplace=False)\n",
              "  (3): Linear(in_features=4096, out_features=4096, bias=True)\n",
              "  (4): ReLU(inplace=True)\n",
              "  (5): Dropout(p=0.5, inplace=False)\n",
              "  (6): Sequential(\n",
              "    (0): Linear(in_features=4096, out_features=10, bias=True)\n",
              "    (1): LogSoftmax(dim=1)\n",
              "  )\n",
              ")"
            ]
          },
          "metadata": {
            "tags": []
          },
          "execution_count": 10
        }
      ]
    },
    {
      "cell_type": "code",
      "metadata": {
        "id": "qe-pEtmc3-Zj",
        "colab_type": "code",
        "colab": {}
      },
      "source": [
        "criterion = nn.NLLLoss()"
      ],
      "execution_count": 11,
      "outputs": []
    },
    {
      "cell_type": "markdown",
      "metadata": {
        "id": "3KnVo-JymOUh",
        "colab_type": "text"
      },
      "source": [
        "## Training the Fixed Feature Extractor"
      ]
    },
    {
      "cell_type": "code",
      "metadata": {
        "id": "dk9-eEGnxW77",
        "colab_type": "code",
        "colab": {}
      },
      "source": [
        "from torch.optim import Adam\n",
        "\n",
        "model = model.to(device)\n",
        "optimizer = Adam(model.parameters())"
      ],
      "execution_count": 12,
      "outputs": []
    },
    {
      "cell_type": "code",
      "metadata": {
        "id": "IVMXEGau5Caf",
        "colab_type": "code",
        "colab": {}
      },
      "source": [
        ""
      ],
      "execution_count": null,
      "outputs": []
    },
    {
      "cell_type": "code",
      "metadata": {
        "id": "s5I7_5I7xawY",
        "colab_type": "code",
        "colab": {
          "base_uri": "https://localhost:8080/",
          "height": 1000
        },
        "outputId": "b3794fe3-1595-4e3d-9b7f-d76495106814"
      },
      "source": [
        "num_epochs = 1\n",
        "batch_loss = 0\n",
        "cum_epoch_loss = 0\n",
        "\n",
        "for e in range(num_epochs):\n",
        "  cum_epoch_loss = 0\n",
        "  \n",
        "  for batch, (images, labels) in enumerate(trainloader,1):\n",
        "    images = images.to(device)\n",
        "    labels = labels.to(device)\n",
        "\n",
        "    optimizer.zero_grad()\n",
        "    logps = model(images)\n",
        "    loss = criterion(logps, labels)\n",
        "    loss.backward()\n",
        "    optimizer.step()\n",
        "    \n",
        "    batch_loss += loss.item()\n",
        "    print(f'Epoch({e}/{num_epochs} : Batch number({batch}/{len(trainloader)})  Batch loss : {loss.item()}')\n",
        "    \n",
        "  print(f'Training loss : {batch_loss/len(trainloader)}')  \n",
        "    "
      ],
      "execution_count": 13,
      "outputs": [
        {
          "output_type": "stream",
          "text": [
            "Epoch(0/1 : Batch number(1/782)  Batch loss : 2.3709750175476074\n",
            "Epoch(0/1 : Batch number(2/782)  Batch loss : 4.291493892669678\n",
            "Epoch(0/1 : Batch number(3/782)  Batch loss : 2.792738676071167\n",
            "Epoch(0/1 : Batch number(4/782)  Batch loss : 2.3072171211242676\n",
            "Epoch(0/1 : Batch number(5/782)  Batch loss : 2.6015641689300537\n",
            "Epoch(0/1 : Batch number(6/782)  Batch loss : 2.4471254348754883\n",
            "Epoch(0/1 : Batch number(7/782)  Batch loss : 2.33199405670166\n",
            "Epoch(0/1 : Batch number(8/782)  Batch loss : 8.831136703491211\n",
            "Epoch(0/1 : Batch number(9/782)  Batch loss : 2.316214084625244\n",
            "Epoch(0/1 : Batch number(10/782)  Batch loss : 2.295485019683838\n",
            "Epoch(0/1 : Batch number(11/782)  Batch loss : 2.3877921104431152\n",
            "Epoch(0/1 : Batch number(12/782)  Batch loss : 2.3101022243499756\n",
            "Epoch(0/1 : Batch number(13/782)  Batch loss : 2.3085148334503174\n",
            "Epoch(0/1 : Batch number(14/782)  Batch loss : 2.294548988342285\n",
            "Epoch(0/1 : Batch number(15/782)  Batch loss : 2.326667308807373\n",
            "Epoch(0/1 : Batch number(16/782)  Batch loss : 2.3164730072021484\n",
            "Epoch(0/1 : Batch number(17/782)  Batch loss : 2.3048501014709473\n",
            "Epoch(0/1 : Batch number(18/782)  Batch loss : 2.320573329925537\n",
            "Epoch(0/1 : Batch number(19/782)  Batch loss : 2.2853646278381348\n",
            "Epoch(0/1 : Batch number(20/782)  Batch loss : 2.2722513675689697\n",
            "Epoch(0/1 : Batch number(21/782)  Batch loss : 2.2938232421875\n",
            "Epoch(0/1 : Batch number(22/782)  Batch loss : 2.248699903488159\n",
            "Epoch(0/1 : Batch number(23/782)  Batch loss : 2.220431089401245\n",
            "Epoch(0/1 : Batch number(24/782)  Batch loss : 2.2146129608154297\n",
            "Epoch(0/1 : Batch number(25/782)  Batch loss : 2.29927921295166\n",
            "Epoch(0/1 : Batch number(26/782)  Batch loss : 2.1642990112304688\n",
            "Epoch(0/1 : Batch number(27/782)  Batch loss : 2.3037478923797607\n",
            "Epoch(0/1 : Batch number(28/782)  Batch loss : 2.2012345790863037\n",
            "Epoch(0/1 : Batch number(29/782)  Batch loss : 2.226767063140869\n",
            "Epoch(0/1 : Batch number(30/782)  Batch loss : 2.2185096740722656\n",
            "Epoch(0/1 : Batch number(31/782)  Batch loss : 2.1545774936676025\n",
            "Epoch(0/1 : Batch number(32/782)  Batch loss : 2.1103124618530273\n",
            "Epoch(0/1 : Batch number(33/782)  Batch loss : 2.0477452278137207\n",
            "Epoch(0/1 : Batch number(34/782)  Batch loss : 2.1071455478668213\n",
            "Epoch(0/1 : Batch number(35/782)  Batch loss : 2.458629608154297\n",
            "Epoch(0/1 : Batch number(36/782)  Batch loss : 2.121903657913208\n",
            "Epoch(0/1 : Batch number(37/782)  Batch loss : 2.024014472961426\n",
            "Epoch(0/1 : Batch number(38/782)  Batch loss : 2.3072268962860107\n",
            "Epoch(0/1 : Batch number(39/782)  Batch loss : 2.1301090717315674\n",
            "Epoch(0/1 : Batch number(40/782)  Batch loss : 2.034576177597046\n",
            "Epoch(0/1 : Batch number(41/782)  Batch loss : 2.1636106967926025\n",
            "Epoch(0/1 : Batch number(42/782)  Batch loss : 2.0775232315063477\n",
            "Epoch(0/1 : Batch number(43/782)  Batch loss : 1.9495941400527954\n",
            "Epoch(0/1 : Batch number(44/782)  Batch loss : 1.9582791328430176\n",
            "Epoch(0/1 : Batch number(45/782)  Batch loss : 2.065819263458252\n",
            "Epoch(0/1 : Batch number(46/782)  Batch loss : 2.146829605102539\n",
            "Epoch(0/1 : Batch number(47/782)  Batch loss : 2.118683099746704\n",
            "Epoch(0/1 : Batch number(48/782)  Batch loss : 2.0773749351501465\n",
            "Epoch(0/1 : Batch number(49/782)  Batch loss : 2.2196271419525146\n",
            "Epoch(0/1 : Batch number(50/782)  Batch loss : 2.0656816959381104\n",
            "Epoch(0/1 : Batch number(51/782)  Batch loss : 2.1234467029571533\n",
            "Epoch(0/1 : Batch number(52/782)  Batch loss : 2.1411001682281494\n",
            "Epoch(0/1 : Batch number(53/782)  Batch loss : 2.08231782913208\n",
            "Epoch(0/1 : Batch number(54/782)  Batch loss : 2.1068503856658936\n",
            "Epoch(0/1 : Batch number(55/782)  Batch loss : 2.292314291000366\n",
            "Epoch(0/1 : Batch number(56/782)  Batch loss : 2.042536497116089\n",
            "Epoch(0/1 : Batch number(57/782)  Batch loss : 2.1364855766296387\n",
            "Epoch(0/1 : Batch number(58/782)  Batch loss : 2.208855390548706\n",
            "Epoch(0/1 : Batch number(59/782)  Batch loss : 1.992768406867981\n",
            "Epoch(0/1 : Batch number(60/782)  Batch loss : 2.0613629817962646\n",
            "Epoch(0/1 : Batch number(61/782)  Batch loss : 1.9847588539123535\n",
            "Epoch(0/1 : Batch number(62/782)  Batch loss : 1.9530599117279053\n",
            "Epoch(0/1 : Batch number(63/782)  Batch loss : 2.008631706237793\n",
            "Epoch(0/1 : Batch number(64/782)  Batch loss : 2.0479416847229004\n",
            "Epoch(0/1 : Batch number(65/782)  Batch loss : 2.1680896282196045\n",
            "Epoch(0/1 : Batch number(66/782)  Batch loss : 2.030630111694336\n",
            "Epoch(0/1 : Batch number(67/782)  Batch loss : 2.257899284362793\n",
            "Epoch(0/1 : Batch number(68/782)  Batch loss : 1.944049596786499\n",
            "Epoch(0/1 : Batch number(69/782)  Batch loss : 2.215956687927246\n",
            "Epoch(0/1 : Batch number(70/782)  Batch loss : 2.018580436706543\n",
            "Epoch(0/1 : Batch number(71/782)  Batch loss : 1.882634162902832\n",
            "Epoch(0/1 : Batch number(72/782)  Batch loss : 2.244734287261963\n",
            "Epoch(0/1 : Batch number(73/782)  Batch loss : 2.267376184463501\n",
            "Epoch(0/1 : Batch number(74/782)  Batch loss : 2.161990165710449\n",
            "Epoch(0/1 : Batch number(75/782)  Batch loss : 2.11975359916687\n",
            "Epoch(0/1 : Batch number(76/782)  Batch loss : 2.1325159072875977\n",
            "Epoch(0/1 : Batch number(77/782)  Batch loss : 2.054792881011963\n",
            "Epoch(0/1 : Batch number(78/782)  Batch loss : 2.087620258331299\n",
            "Epoch(0/1 : Batch number(79/782)  Batch loss : 2.052126884460449\n",
            "Epoch(0/1 : Batch number(80/782)  Batch loss : 2.0196735858917236\n",
            "Epoch(0/1 : Batch number(81/782)  Batch loss : 2.120432138442993\n",
            "Epoch(0/1 : Batch number(82/782)  Batch loss : 2.006894111633301\n",
            "Epoch(0/1 : Batch number(83/782)  Batch loss : 2.224355459213257\n",
            "Epoch(0/1 : Batch number(84/782)  Batch loss : 2.0800957679748535\n",
            "Epoch(0/1 : Batch number(85/782)  Batch loss : 2.0259807109832764\n",
            "Epoch(0/1 : Batch number(86/782)  Batch loss : 2.0228781700134277\n",
            "Epoch(0/1 : Batch number(87/782)  Batch loss : 2.272226333618164\n",
            "Epoch(0/1 : Batch number(88/782)  Batch loss : 1.9803115129470825\n",
            "Epoch(0/1 : Batch number(89/782)  Batch loss : 2.1084256172180176\n",
            "Epoch(0/1 : Batch number(90/782)  Batch loss : 1.8960140943527222\n",
            "Epoch(0/1 : Batch number(91/782)  Batch loss : 2.0637600421905518\n",
            "Epoch(0/1 : Batch number(92/782)  Batch loss : 2.01357102394104\n",
            "Epoch(0/1 : Batch number(93/782)  Batch loss : 2.0168726444244385\n",
            "Epoch(0/1 : Batch number(94/782)  Batch loss : 1.9883912801742554\n",
            "Epoch(0/1 : Batch number(95/782)  Batch loss : 2.0586767196655273\n",
            "Epoch(0/1 : Batch number(96/782)  Batch loss : 1.9405641555786133\n",
            "Epoch(0/1 : Batch number(97/782)  Batch loss : 1.9818074703216553\n",
            "Epoch(0/1 : Batch number(98/782)  Batch loss : 2.0653798580169678\n",
            "Epoch(0/1 : Batch number(99/782)  Batch loss : 1.6934428215026855\n",
            "Epoch(0/1 : Batch number(100/782)  Batch loss : 1.8080462217330933\n",
            "Epoch(0/1 : Batch number(101/782)  Batch loss : 2.0803616046905518\n",
            "Epoch(0/1 : Batch number(102/782)  Batch loss : 1.8177881240844727\n",
            "Epoch(0/1 : Batch number(103/782)  Batch loss : 1.9028220176696777\n",
            "Epoch(0/1 : Batch number(104/782)  Batch loss : 1.8085007667541504\n",
            "Epoch(0/1 : Batch number(105/782)  Batch loss : 1.7511200904846191\n",
            "Epoch(0/1 : Batch number(106/782)  Batch loss : 1.7308435440063477\n",
            "Epoch(0/1 : Batch number(107/782)  Batch loss : 1.6304726600646973\n",
            "Epoch(0/1 : Batch number(108/782)  Batch loss : 2.0102121829986572\n",
            "Epoch(0/1 : Batch number(109/782)  Batch loss : 1.8364734649658203\n",
            "Epoch(0/1 : Batch number(110/782)  Batch loss : 1.912693977355957\n",
            "Epoch(0/1 : Batch number(111/782)  Batch loss : 2.0311851501464844\n",
            "Epoch(0/1 : Batch number(112/782)  Batch loss : 1.7940250635147095\n",
            "Epoch(0/1 : Batch number(113/782)  Batch loss : 1.997789978981018\n",
            "Epoch(0/1 : Batch number(114/782)  Batch loss : 1.8049015998840332\n",
            "Epoch(0/1 : Batch number(115/782)  Batch loss : 1.7750135660171509\n",
            "Epoch(0/1 : Batch number(116/782)  Batch loss : 1.8152774572372437\n",
            "Epoch(0/1 : Batch number(117/782)  Batch loss : 1.778130292892456\n",
            "Epoch(0/1 : Batch number(118/782)  Batch loss : 1.8077340126037598\n",
            "Epoch(0/1 : Batch number(119/782)  Batch loss : 1.9214503765106201\n",
            "Epoch(0/1 : Batch number(120/782)  Batch loss : 1.8176032304763794\n",
            "Epoch(0/1 : Batch number(121/782)  Batch loss : 1.6941685676574707\n",
            "Epoch(0/1 : Batch number(122/782)  Batch loss : 1.731319546699524\n",
            "Epoch(0/1 : Batch number(123/782)  Batch loss : 1.9165023565292358\n",
            "Epoch(0/1 : Batch number(124/782)  Batch loss : 1.8727397918701172\n",
            "Epoch(0/1 : Batch number(125/782)  Batch loss : 1.8938275575637817\n",
            "Epoch(0/1 : Batch number(126/782)  Batch loss : 2.02679443359375\n",
            "Epoch(0/1 : Batch number(127/782)  Batch loss : 1.7978875637054443\n",
            "Epoch(0/1 : Batch number(128/782)  Batch loss : 2.0703651905059814\n",
            "Epoch(0/1 : Batch number(129/782)  Batch loss : 1.7306547164916992\n",
            "Epoch(0/1 : Batch number(130/782)  Batch loss : 1.8878685235977173\n",
            "Epoch(0/1 : Batch number(131/782)  Batch loss : 1.804805874824524\n",
            "Epoch(0/1 : Batch number(132/782)  Batch loss : 1.8672280311584473\n",
            "Epoch(0/1 : Batch number(133/782)  Batch loss : 1.8212023973464966\n",
            "Epoch(0/1 : Batch number(134/782)  Batch loss : 1.8931041955947876\n",
            "Epoch(0/1 : Batch number(135/782)  Batch loss : 1.890369176864624\n",
            "Epoch(0/1 : Batch number(136/782)  Batch loss : 1.9482585191726685\n",
            "Epoch(0/1 : Batch number(137/782)  Batch loss : 1.8021488189697266\n",
            "Epoch(0/1 : Batch number(138/782)  Batch loss : 1.9034249782562256\n",
            "Epoch(0/1 : Batch number(139/782)  Batch loss : 1.9197437763214111\n",
            "Epoch(0/1 : Batch number(140/782)  Batch loss : 1.9230406284332275\n",
            "Epoch(0/1 : Batch number(141/782)  Batch loss : 1.6628143787384033\n",
            "Epoch(0/1 : Batch number(142/782)  Batch loss : 1.6581048965454102\n",
            "Epoch(0/1 : Batch number(143/782)  Batch loss : 1.7801529169082642\n",
            "Epoch(0/1 : Batch number(144/782)  Batch loss : 1.7658255100250244\n",
            "Epoch(0/1 : Batch number(145/782)  Batch loss : 1.78314208984375\n",
            "Epoch(0/1 : Batch number(146/782)  Batch loss : 1.9216018915176392\n",
            "Epoch(0/1 : Batch number(147/782)  Batch loss : 1.6903517246246338\n",
            "Epoch(0/1 : Batch number(148/782)  Batch loss : 1.8743486404418945\n",
            "Epoch(0/1 : Batch number(149/782)  Batch loss : 1.6568002700805664\n",
            "Epoch(0/1 : Batch number(150/782)  Batch loss : 1.8678745031356812\n",
            "Epoch(0/1 : Batch number(151/782)  Batch loss : 1.7298433780670166\n",
            "Epoch(0/1 : Batch number(152/782)  Batch loss : 1.6366491317749023\n",
            "Epoch(0/1 : Batch number(153/782)  Batch loss : 1.7957061529159546\n",
            "Epoch(0/1 : Batch number(154/782)  Batch loss : 1.7201197147369385\n",
            "Epoch(0/1 : Batch number(155/782)  Batch loss : 1.8152042627334595\n",
            "Epoch(0/1 : Batch number(156/782)  Batch loss : 1.8576160669326782\n",
            "Epoch(0/1 : Batch number(157/782)  Batch loss : 1.7853477001190186\n",
            "Epoch(0/1 : Batch number(158/782)  Batch loss : 2.0197529792785645\n",
            "Epoch(0/1 : Batch number(159/782)  Batch loss : 1.7382982969284058\n",
            "Epoch(0/1 : Batch number(160/782)  Batch loss : 1.7371628284454346\n",
            "Epoch(0/1 : Batch number(161/782)  Batch loss : 1.7822481393814087\n",
            "Epoch(0/1 : Batch number(162/782)  Batch loss : 1.6750681400299072\n",
            "Epoch(0/1 : Batch number(163/782)  Batch loss : 1.5808285474777222\n",
            "Epoch(0/1 : Batch number(164/782)  Batch loss : 1.6669337749481201\n",
            "Epoch(0/1 : Batch number(165/782)  Batch loss : 1.9764858484268188\n",
            "Epoch(0/1 : Batch number(166/782)  Batch loss : 1.9423290491104126\n",
            "Epoch(0/1 : Batch number(167/782)  Batch loss : 1.436553955078125\n",
            "Epoch(0/1 : Batch number(168/782)  Batch loss : 2.0302817821502686\n",
            "Epoch(0/1 : Batch number(169/782)  Batch loss : 1.7845396995544434\n",
            "Epoch(0/1 : Batch number(170/782)  Batch loss : 1.9737601280212402\n",
            "Epoch(0/1 : Batch number(171/782)  Batch loss : 1.8426274061203003\n",
            "Epoch(0/1 : Batch number(172/782)  Batch loss : 1.812536358833313\n",
            "Epoch(0/1 : Batch number(173/782)  Batch loss : 1.784846544265747\n",
            "Epoch(0/1 : Batch number(174/782)  Batch loss : 1.718847393989563\n",
            "Epoch(0/1 : Batch number(175/782)  Batch loss : 1.7988425493240356\n",
            "Epoch(0/1 : Batch number(176/782)  Batch loss : 1.9064372777938843\n",
            "Epoch(0/1 : Batch number(177/782)  Batch loss : 1.9948320388793945\n",
            "Epoch(0/1 : Batch number(178/782)  Batch loss : 1.681142807006836\n",
            "Epoch(0/1 : Batch number(179/782)  Batch loss : 1.833632469177246\n",
            "Epoch(0/1 : Batch number(180/782)  Batch loss : 1.839829444885254\n",
            "Epoch(0/1 : Batch number(181/782)  Batch loss : 1.7935692071914673\n",
            "Epoch(0/1 : Batch number(182/782)  Batch loss : 1.6276267766952515\n",
            "Epoch(0/1 : Batch number(183/782)  Batch loss : 1.965330958366394\n",
            "Epoch(0/1 : Batch number(184/782)  Batch loss : 1.8829466104507446\n",
            "Epoch(0/1 : Batch number(185/782)  Batch loss : 1.6224310398101807\n",
            "Epoch(0/1 : Batch number(186/782)  Batch loss : 1.7069969177246094\n",
            "Epoch(0/1 : Batch number(187/782)  Batch loss : 1.9305217266082764\n",
            "Epoch(0/1 : Batch number(188/782)  Batch loss : 1.7635788917541504\n",
            "Epoch(0/1 : Batch number(189/782)  Batch loss : 1.9295133352279663\n",
            "Epoch(0/1 : Batch number(190/782)  Batch loss : 1.8471745252609253\n",
            "Epoch(0/1 : Batch number(191/782)  Batch loss : 1.8593109846115112\n",
            "Epoch(0/1 : Batch number(192/782)  Batch loss : 1.778691291809082\n",
            "Epoch(0/1 : Batch number(193/782)  Batch loss : 1.7848368883132935\n",
            "Epoch(0/1 : Batch number(194/782)  Batch loss : 1.6024374961853027\n",
            "Epoch(0/1 : Batch number(195/782)  Batch loss : 1.7557603120803833\n",
            "Epoch(0/1 : Batch number(196/782)  Batch loss : 1.9281949996948242\n",
            "Epoch(0/1 : Batch number(197/782)  Batch loss : 1.8081048727035522\n",
            "Epoch(0/1 : Batch number(198/782)  Batch loss : 1.788760781288147\n",
            "Epoch(0/1 : Batch number(199/782)  Batch loss : 1.6869432926177979\n",
            "Epoch(0/1 : Batch number(200/782)  Batch loss : 1.6889344453811646\n",
            "Epoch(0/1 : Batch number(201/782)  Batch loss : 1.6721901893615723\n",
            "Epoch(0/1 : Batch number(202/782)  Batch loss : 1.6529790163040161\n",
            "Epoch(0/1 : Batch number(203/782)  Batch loss : 1.5382802486419678\n",
            "Epoch(0/1 : Batch number(204/782)  Batch loss : 1.5170705318450928\n",
            "Epoch(0/1 : Batch number(205/782)  Batch loss : 1.5874909162521362\n",
            "Epoch(0/1 : Batch number(206/782)  Batch loss : 1.7034152746200562\n",
            "Epoch(0/1 : Batch number(207/782)  Batch loss : 1.9002753496170044\n",
            "Epoch(0/1 : Batch number(208/782)  Batch loss : 1.6094387769699097\n",
            "Epoch(0/1 : Batch number(209/782)  Batch loss : 1.8767156600952148\n",
            "Epoch(0/1 : Batch number(210/782)  Batch loss : 1.646706461906433\n",
            "Epoch(0/1 : Batch number(211/782)  Batch loss : 1.8693740367889404\n",
            "Epoch(0/1 : Batch number(212/782)  Batch loss : 1.9640450477600098\n",
            "Epoch(0/1 : Batch number(213/782)  Batch loss : 1.7016408443450928\n",
            "Epoch(0/1 : Batch number(214/782)  Batch loss : 1.7810550928115845\n",
            "Epoch(0/1 : Batch number(215/782)  Batch loss : 1.7325400114059448\n",
            "Epoch(0/1 : Batch number(216/782)  Batch loss : 1.6220591068267822\n",
            "Epoch(0/1 : Batch number(217/782)  Batch loss : 1.7765300273895264\n",
            "Epoch(0/1 : Batch number(218/782)  Batch loss : 1.736138939857483\n",
            "Epoch(0/1 : Batch number(219/782)  Batch loss : 1.6419992446899414\n",
            "Epoch(0/1 : Batch number(220/782)  Batch loss : 1.5262959003448486\n",
            "Epoch(0/1 : Batch number(221/782)  Batch loss : 1.6170403957366943\n",
            "Epoch(0/1 : Batch number(222/782)  Batch loss : 1.6439039707183838\n",
            "Epoch(0/1 : Batch number(223/782)  Batch loss : 1.9278310537338257\n",
            "Epoch(0/1 : Batch number(224/782)  Batch loss : 1.7191684246063232\n",
            "Epoch(0/1 : Batch number(225/782)  Batch loss : 1.6489815711975098\n",
            "Epoch(0/1 : Batch number(226/782)  Batch loss : 1.702760934829712\n",
            "Epoch(0/1 : Batch number(227/782)  Batch loss : 1.6095538139343262\n",
            "Epoch(0/1 : Batch number(228/782)  Batch loss : 1.5812547206878662\n",
            "Epoch(0/1 : Batch number(229/782)  Batch loss : 1.4902563095092773\n",
            "Epoch(0/1 : Batch number(230/782)  Batch loss : 1.9585050344467163\n",
            "Epoch(0/1 : Batch number(231/782)  Batch loss : 1.5700454711914062\n",
            "Epoch(0/1 : Batch number(232/782)  Batch loss : 1.5557137727737427\n",
            "Epoch(0/1 : Batch number(233/782)  Batch loss : 1.4171671867370605\n",
            "Epoch(0/1 : Batch number(234/782)  Batch loss : 1.4835898876190186\n",
            "Epoch(0/1 : Batch number(235/782)  Batch loss : 1.7408617734909058\n",
            "Epoch(0/1 : Batch number(236/782)  Batch loss : 1.7516196966171265\n",
            "Epoch(0/1 : Batch number(237/782)  Batch loss : 1.6163169145584106\n",
            "Epoch(0/1 : Batch number(238/782)  Batch loss : 1.973525881767273\n",
            "Epoch(0/1 : Batch number(239/782)  Batch loss : 1.9518232345581055\n",
            "Epoch(0/1 : Batch number(240/782)  Batch loss : 1.5997915267944336\n",
            "Epoch(0/1 : Batch number(241/782)  Batch loss : 1.6463793516159058\n",
            "Epoch(0/1 : Batch number(242/782)  Batch loss : 1.8249539136886597\n",
            "Epoch(0/1 : Batch number(243/782)  Batch loss : 1.5463314056396484\n",
            "Epoch(0/1 : Batch number(244/782)  Batch loss : 1.4951882362365723\n",
            "Epoch(0/1 : Batch number(245/782)  Batch loss : 1.6962740421295166\n",
            "Epoch(0/1 : Batch number(246/782)  Batch loss : 1.6318987607955933\n",
            "Epoch(0/1 : Batch number(247/782)  Batch loss : 1.8538483381271362\n",
            "Epoch(0/1 : Batch number(248/782)  Batch loss : 1.8031368255615234\n",
            "Epoch(0/1 : Batch number(249/782)  Batch loss : 1.5507724285125732\n",
            "Epoch(0/1 : Batch number(250/782)  Batch loss : 1.8146955966949463\n",
            "Epoch(0/1 : Batch number(251/782)  Batch loss : 1.6852033138275146\n",
            "Epoch(0/1 : Batch number(252/782)  Batch loss : 1.566672444343567\n",
            "Epoch(0/1 : Batch number(253/782)  Batch loss : 1.5666208267211914\n",
            "Epoch(0/1 : Batch number(254/782)  Batch loss : 1.6530259847640991\n",
            "Epoch(0/1 : Batch number(255/782)  Batch loss : 1.688696026802063\n",
            "Epoch(0/1 : Batch number(256/782)  Batch loss : 1.6778110265731812\n",
            "Epoch(0/1 : Batch number(257/782)  Batch loss : 1.7971900701522827\n",
            "Epoch(0/1 : Batch number(258/782)  Batch loss : 1.4899417161941528\n",
            "Epoch(0/1 : Batch number(259/782)  Batch loss : 1.6158366203308105\n",
            "Epoch(0/1 : Batch number(260/782)  Batch loss : 1.8982492685317993\n",
            "Epoch(0/1 : Batch number(261/782)  Batch loss : 1.5737038850784302\n",
            "Epoch(0/1 : Batch number(262/782)  Batch loss : 1.6674326658248901\n",
            "Epoch(0/1 : Batch number(263/782)  Batch loss : 1.5334569215774536\n",
            "Epoch(0/1 : Batch number(264/782)  Batch loss : 1.5546931028366089\n",
            "Epoch(0/1 : Batch number(265/782)  Batch loss : 1.5059773921966553\n",
            "Epoch(0/1 : Batch number(266/782)  Batch loss : 1.683000087738037\n",
            "Epoch(0/1 : Batch number(267/782)  Batch loss : 1.7218108177185059\n",
            "Epoch(0/1 : Batch number(268/782)  Batch loss : 1.463130235671997\n",
            "Epoch(0/1 : Batch number(269/782)  Batch loss : 1.4799267053604126\n",
            "Epoch(0/1 : Batch number(270/782)  Batch loss : 1.7741303443908691\n",
            "Epoch(0/1 : Batch number(271/782)  Batch loss : 1.5969723463058472\n",
            "Epoch(0/1 : Batch number(272/782)  Batch loss : 1.761357069015503\n",
            "Epoch(0/1 : Batch number(273/782)  Batch loss : 1.5107808113098145\n",
            "Epoch(0/1 : Batch number(274/782)  Batch loss : 1.5318808555603027\n",
            "Epoch(0/1 : Batch number(275/782)  Batch loss : 1.6606084108352661\n",
            "Epoch(0/1 : Batch number(276/782)  Batch loss : 1.5878393650054932\n",
            "Epoch(0/1 : Batch number(277/782)  Batch loss : 1.5604190826416016\n",
            "Epoch(0/1 : Batch number(278/782)  Batch loss : 1.5350629091262817\n",
            "Epoch(0/1 : Batch number(279/782)  Batch loss : 1.5776190757751465\n",
            "Epoch(0/1 : Batch number(280/782)  Batch loss : 1.6371759176254272\n",
            "Epoch(0/1 : Batch number(281/782)  Batch loss : 1.591852068901062\n",
            "Epoch(0/1 : Batch number(282/782)  Batch loss : 1.4853947162628174\n",
            "Epoch(0/1 : Batch number(283/782)  Batch loss : 1.549351692199707\n",
            "Epoch(0/1 : Batch number(284/782)  Batch loss : 1.5165526866912842\n",
            "Epoch(0/1 : Batch number(285/782)  Batch loss : 1.3865684270858765\n",
            "Epoch(0/1 : Batch number(286/782)  Batch loss : 1.6061488389968872\n",
            "Epoch(0/1 : Batch number(287/782)  Batch loss : 1.705979824066162\n",
            "Epoch(0/1 : Batch number(288/782)  Batch loss : 1.8254854679107666\n",
            "Epoch(0/1 : Batch number(289/782)  Batch loss : 1.5044060945510864\n",
            "Epoch(0/1 : Batch number(290/782)  Batch loss : 1.632799744606018\n",
            "Epoch(0/1 : Batch number(291/782)  Batch loss : 1.5469367504119873\n",
            "Epoch(0/1 : Batch number(292/782)  Batch loss : 1.5178885459899902\n",
            "Epoch(0/1 : Batch number(293/782)  Batch loss : 1.7215253114700317\n",
            "Epoch(0/1 : Batch number(294/782)  Batch loss : 1.5895910263061523\n",
            "Epoch(0/1 : Batch number(295/782)  Batch loss : 1.733991026878357\n",
            "Epoch(0/1 : Batch number(296/782)  Batch loss : 1.642077088356018\n",
            "Epoch(0/1 : Batch number(297/782)  Batch loss : 1.7299034595489502\n",
            "Epoch(0/1 : Batch number(298/782)  Batch loss : 1.5570732355117798\n",
            "Epoch(0/1 : Batch number(299/782)  Batch loss : 1.7264776229858398\n",
            "Epoch(0/1 : Batch number(300/782)  Batch loss : 1.5804380178451538\n",
            "Epoch(0/1 : Batch number(301/782)  Batch loss : 1.7460781335830688\n",
            "Epoch(0/1 : Batch number(302/782)  Batch loss : 1.6634998321533203\n",
            "Epoch(0/1 : Batch number(303/782)  Batch loss : 1.4352365732192993\n",
            "Epoch(0/1 : Batch number(304/782)  Batch loss : 1.6027759313583374\n",
            "Epoch(0/1 : Batch number(305/782)  Batch loss : 1.4283630847930908\n",
            "Epoch(0/1 : Batch number(306/782)  Batch loss : 1.709837794303894\n",
            "Epoch(0/1 : Batch number(307/782)  Batch loss : 1.5349310636520386\n",
            "Epoch(0/1 : Batch number(308/782)  Batch loss : 1.436693549156189\n",
            "Epoch(0/1 : Batch number(309/782)  Batch loss : 1.4548325538635254\n",
            "Epoch(0/1 : Batch number(310/782)  Batch loss : 1.7466154098510742\n",
            "Epoch(0/1 : Batch number(311/782)  Batch loss : 1.6536946296691895\n",
            "Epoch(0/1 : Batch number(312/782)  Batch loss : 1.683038353919983\n",
            "Epoch(0/1 : Batch number(313/782)  Batch loss : 1.6913589239120483\n",
            "Epoch(0/1 : Batch number(314/782)  Batch loss : 1.6011948585510254\n",
            "Epoch(0/1 : Batch number(315/782)  Batch loss : 1.6464043855667114\n",
            "Epoch(0/1 : Batch number(316/782)  Batch loss : 1.793172001838684\n",
            "Epoch(0/1 : Batch number(317/782)  Batch loss : 1.5036674737930298\n",
            "Epoch(0/1 : Batch number(318/782)  Batch loss : 1.5691277980804443\n",
            "Epoch(0/1 : Batch number(319/782)  Batch loss : 1.4899065494537354\n",
            "Epoch(0/1 : Batch number(320/782)  Batch loss : 1.4145249128341675\n",
            "Epoch(0/1 : Batch number(321/782)  Batch loss : 1.5609544515609741\n",
            "Epoch(0/1 : Batch number(322/782)  Batch loss : 1.5630472898483276\n",
            "Epoch(0/1 : Batch number(323/782)  Batch loss : 1.5067846775054932\n",
            "Epoch(0/1 : Batch number(324/782)  Batch loss : 1.5994080305099487\n",
            "Epoch(0/1 : Batch number(325/782)  Batch loss : 1.7121716737747192\n",
            "Epoch(0/1 : Batch number(326/782)  Batch loss : 1.2793277502059937\n",
            "Epoch(0/1 : Batch number(327/782)  Batch loss : 1.6966089010238647\n",
            "Epoch(0/1 : Batch number(328/782)  Batch loss : 1.2751356363296509\n",
            "Epoch(0/1 : Batch number(329/782)  Batch loss : 1.648949384689331\n",
            "Epoch(0/1 : Batch number(330/782)  Batch loss : 1.6441760063171387\n",
            "Epoch(0/1 : Batch number(331/782)  Batch loss : 1.7154546976089478\n",
            "Epoch(0/1 : Batch number(332/782)  Batch loss : 1.3181124925613403\n",
            "Epoch(0/1 : Batch number(333/782)  Batch loss : 1.5087676048278809\n",
            "Epoch(0/1 : Batch number(334/782)  Batch loss : 1.544195532798767\n",
            "Epoch(0/1 : Batch number(335/782)  Batch loss : 1.5630428791046143\n",
            "Epoch(0/1 : Batch number(336/782)  Batch loss : 1.63899827003479\n",
            "Epoch(0/1 : Batch number(337/782)  Batch loss : 1.7124221324920654\n",
            "Epoch(0/1 : Batch number(338/782)  Batch loss : 1.661917805671692\n",
            "Epoch(0/1 : Batch number(339/782)  Batch loss : 1.4037435054779053\n",
            "Epoch(0/1 : Batch number(340/782)  Batch loss : 1.736802577972412\n",
            "Epoch(0/1 : Batch number(341/782)  Batch loss : 1.6498833894729614\n",
            "Epoch(0/1 : Batch number(342/782)  Batch loss : 1.4446847438812256\n",
            "Epoch(0/1 : Batch number(343/782)  Batch loss : 1.6297061443328857\n",
            "Epoch(0/1 : Batch number(344/782)  Batch loss : 1.6080399751663208\n",
            "Epoch(0/1 : Batch number(345/782)  Batch loss : 1.6961703300476074\n",
            "Epoch(0/1 : Batch number(346/782)  Batch loss : 1.5452021360397339\n",
            "Epoch(0/1 : Batch number(347/782)  Batch loss : 1.4671354293823242\n",
            "Epoch(0/1 : Batch number(348/782)  Batch loss : 1.4514094591140747\n",
            "Epoch(0/1 : Batch number(349/782)  Batch loss : 1.4279743432998657\n",
            "Epoch(0/1 : Batch number(350/782)  Batch loss : 1.5471811294555664\n",
            "Epoch(0/1 : Batch number(351/782)  Batch loss : 1.4653035402297974\n",
            "Epoch(0/1 : Batch number(352/782)  Batch loss : 1.2802953720092773\n",
            "Epoch(0/1 : Batch number(353/782)  Batch loss : 1.7872686386108398\n",
            "Epoch(0/1 : Batch number(354/782)  Batch loss : 1.6009197235107422\n",
            "Epoch(0/1 : Batch number(355/782)  Batch loss : 1.8175700902938843\n",
            "Epoch(0/1 : Batch number(356/782)  Batch loss : 1.5748406648635864\n",
            "Epoch(0/1 : Batch number(357/782)  Batch loss : 1.4741047620773315\n",
            "Epoch(0/1 : Batch number(358/782)  Batch loss : 1.4896063804626465\n",
            "Epoch(0/1 : Batch number(359/782)  Batch loss : 1.4188374280929565\n",
            "Epoch(0/1 : Batch number(360/782)  Batch loss : 1.7920775413513184\n",
            "Epoch(0/1 : Batch number(361/782)  Batch loss : 1.4770334959030151\n",
            "Epoch(0/1 : Batch number(362/782)  Batch loss : 1.7039110660552979\n",
            "Epoch(0/1 : Batch number(363/782)  Batch loss : 1.644128680229187\n",
            "Epoch(0/1 : Batch number(364/782)  Batch loss : 1.6100012063980103\n",
            "Epoch(0/1 : Batch number(365/782)  Batch loss : 1.5860456228256226\n",
            "Epoch(0/1 : Batch number(366/782)  Batch loss : 1.5170360803604126\n",
            "Epoch(0/1 : Batch number(367/782)  Batch loss : 1.4379233121871948\n",
            "Epoch(0/1 : Batch number(368/782)  Batch loss : 1.575860857963562\n",
            "Epoch(0/1 : Batch number(369/782)  Batch loss : 1.5710643529891968\n",
            "Epoch(0/1 : Batch number(370/782)  Batch loss : 1.6014803647994995\n",
            "Epoch(0/1 : Batch number(371/782)  Batch loss : 1.4840577840805054\n",
            "Epoch(0/1 : Batch number(372/782)  Batch loss : 1.6057102680206299\n",
            "Epoch(0/1 : Batch number(373/782)  Batch loss : 1.49027419090271\n",
            "Epoch(0/1 : Batch number(374/782)  Batch loss : 1.5611965656280518\n",
            "Epoch(0/1 : Batch number(375/782)  Batch loss : 1.6303855180740356\n",
            "Epoch(0/1 : Batch number(376/782)  Batch loss : 1.618760347366333\n",
            "Epoch(0/1 : Batch number(377/782)  Batch loss : 1.5440431833267212\n",
            "Epoch(0/1 : Batch number(378/782)  Batch loss : 1.6243411302566528\n",
            "Epoch(0/1 : Batch number(379/782)  Batch loss : 1.543274998664856\n",
            "Epoch(0/1 : Batch number(380/782)  Batch loss : 1.5378347635269165\n",
            "Epoch(0/1 : Batch number(381/782)  Batch loss : 1.3455252647399902\n",
            "Epoch(0/1 : Batch number(382/782)  Batch loss : 1.554772973060608\n",
            "Epoch(0/1 : Batch number(383/782)  Batch loss : 1.6463298797607422\n",
            "Epoch(0/1 : Batch number(384/782)  Batch loss : 1.5873663425445557\n",
            "Epoch(0/1 : Batch number(385/782)  Batch loss : 1.8623523712158203\n",
            "Epoch(0/1 : Batch number(386/782)  Batch loss : 1.5886740684509277\n",
            "Epoch(0/1 : Batch number(387/782)  Batch loss : 1.5775988101959229\n",
            "Epoch(0/1 : Batch number(388/782)  Batch loss : 1.653459072113037\n",
            "Epoch(0/1 : Batch number(389/782)  Batch loss : 1.6092313528060913\n",
            "Epoch(0/1 : Batch number(390/782)  Batch loss : 1.3790372610092163\n",
            "Epoch(0/1 : Batch number(391/782)  Batch loss : 1.3582708835601807\n",
            "Epoch(0/1 : Batch number(392/782)  Batch loss : 1.5912022590637207\n",
            "Epoch(0/1 : Batch number(393/782)  Batch loss : 1.469852089881897\n",
            "Epoch(0/1 : Batch number(394/782)  Batch loss : 1.4475977420806885\n",
            "Epoch(0/1 : Batch number(395/782)  Batch loss : 1.4569374322891235\n",
            "Epoch(0/1 : Batch number(396/782)  Batch loss : 1.7322207689285278\n",
            "Epoch(0/1 : Batch number(397/782)  Batch loss : 1.3952980041503906\n",
            "Epoch(0/1 : Batch number(398/782)  Batch loss : 1.513545036315918\n",
            "Epoch(0/1 : Batch number(399/782)  Batch loss : 1.5972381830215454\n",
            "Epoch(0/1 : Batch number(400/782)  Batch loss : 1.6404470205307007\n",
            "Epoch(0/1 : Batch number(401/782)  Batch loss : 1.5140960216522217\n",
            "Epoch(0/1 : Batch number(402/782)  Batch loss : 1.2746002674102783\n",
            "Epoch(0/1 : Batch number(403/782)  Batch loss : 1.6526854038238525\n",
            "Epoch(0/1 : Batch number(404/782)  Batch loss : 1.7042269706726074\n",
            "Epoch(0/1 : Batch number(405/782)  Batch loss : 1.4436051845550537\n",
            "Epoch(0/1 : Batch number(406/782)  Batch loss : 1.629814624786377\n",
            "Epoch(0/1 : Batch number(407/782)  Batch loss : 1.4257607460021973\n",
            "Epoch(0/1 : Batch number(408/782)  Batch loss : 1.7722197771072388\n",
            "Epoch(0/1 : Batch number(409/782)  Batch loss : 1.7687585353851318\n",
            "Epoch(0/1 : Batch number(410/782)  Batch loss : 1.4191967248916626\n",
            "Epoch(0/1 : Batch number(411/782)  Batch loss : 1.4813206195831299\n",
            "Epoch(0/1 : Batch number(412/782)  Batch loss : 1.5193487405776978\n",
            "Epoch(0/1 : Batch number(413/782)  Batch loss : 1.4894572496414185\n",
            "Epoch(0/1 : Batch number(414/782)  Batch loss : 1.7531640529632568\n",
            "Epoch(0/1 : Batch number(415/782)  Batch loss : 1.4060547351837158\n",
            "Epoch(0/1 : Batch number(416/782)  Batch loss : 1.4764989614486694\n",
            "Epoch(0/1 : Batch number(417/782)  Batch loss : 1.6764354705810547\n",
            "Epoch(0/1 : Batch number(418/782)  Batch loss : 1.4904729127883911\n",
            "Epoch(0/1 : Batch number(419/782)  Batch loss : 1.6051814556121826\n",
            "Epoch(0/1 : Batch number(420/782)  Batch loss : 1.5879180431365967\n",
            "Epoch(0/1 : Batch number(421/782)  Batch loss : 1.5115858316421509\n",
            "Epoch(0/1 : Batch number(422/782)  Batch loss : 1.3640003204345703\n",
            "Epoch(0/1 : Batch number(423/782)  Batch loss : 1.4739643335342407\n",
            "Epoch(0/1 : Batch number(424/782)  Batch loss : 1.6036722660064697\n",
            "Epoch(0/1 : Batch number(425/782)  Batch loss : 1.6144559383392334\n",
            "Epoch(0/1 : Batch number(426/782)  Batch loss : 1.5084165334701538\n",
            "Epoch(0/1 : Batch number(427/782)  Batch loss : 1.4454548358917236\n",
            "Epoch(0/1 : Batch number(428/782)  Batch loss : 1.70102059841156\n",
            "Epoch(0/1 : Batch number(429/782)  Batch loss : 1.2838677167892456\n",
            "Epoch(0/1 : Batch number(430/782)  Batch loss : 1.3699427843093872\n",
            "Epoch(0/1 : Batch number(431/782)  Batch loss : 1.466293215751648\n",
            "Epoch(0/1 : Batch number(432/782)  Batch loss : 1.4661668539047241\n",
            "Epoch(0/1 : Batch number(433/782)  Batch loss : 1.4341063499450684\n",
            "Epoch(0/1 : Batch number(434/782)  Batch loss : 1.424978494644165\n",
            "Epoch(0/1 : Batch number(435/782)  Batch loss : 1.3596150875091553\n",
            "Epoch(0/1 : Batch number(436/782)  Batch loss : 1.8427398204803467\n",
            "Epoch(0/1 : Batch number(437/782)  Batch loss : 1.349473476409912\n",
            "Epoch(0/1 : Batch number(438/782)  Batch loss : 1.4095995426177979\n",
            "Epoch(0/1 : Batch number(439/782)  Batch loss : 1.4797577857971191\n",
            "Epoch(0/1 : Batch number(440/782)  Batch loss : 1.472788691520691\n",
            "Epoch(0/1 : Batch number(441/782)  Batch loss : 1.5224674940109253\n",
            "Epoch(0/1 : Batch number(442/782)  Batch loss : 1.4915918111801147\n",
            "Epoch(0/1 : Batch number(443/782)  Batch loss : 1.6037843227386475\n",
            "Epoch(0/1 : Batch number(444/782)  Batch loss : 1.5825181007385254\n",
            "Epoch(0/1 : Batch number(445/782)  Batch loss : 1.4964520931243896\n",
            "Epoch(0/1 : Batch number(446/782)  Batch loss : 1.5752155780792236\n",
            "Epoch(0/1 : Batch number(447/782)  Batch loss : 1.4638999700546265\n",
            "Epoch(0/1 : Batch number(448/782)  Batch loss : 1.5178667306900024\n",
            "Epoch(0/1 : Batch number(449/782)  Batch loss : 1.3464689254760742\n",
            "Epoch(0/1 : Batch number(450/782)  Batch loss : 1.4929943084716797\n",
            "Epoch(0/1 : Batch number(451/782)  Batch loss : 1.6185872554779053\n",
            "Epoch(0/1 : Batch number(452/782)  Batch loss : 1.397513747215271\n",
            "Epoch(0/1 : Batch number(453/782)  Batch loss : 1.4593782424926758\n",
            "Epoch(0/1 : Batch number(454/782)  Batch loss : 1.3788731098175049\n",
            "Epoch(0/1 : Batch number(455/782)  Batch loss : 1.3866122961044312\n",
            "Epoch(0/1 : Batch number(456/782)  Batch loss : 1.3179246187210083\n",
            "Epoch(0/1 : Batch number(457/782)  Batch loss : 1.3537126779556274\n",
            "Epoch(0/1 : Batch number(458/782)  Batch loss : 1.6172078847885132\n",
            "Epoch(0/1 : Batch number(459/782)  Batch loss : 1.578257441520691\n",
            "Epoch(0/1 : Batch number(460/782)  Batch loss : 1.2802579402923584\n",
            "Epoch(0/1 : Batch number(461/782)  Batch loss : 1.501560091972351\n",
            "Epoch(0/1 : Batch number(462/782)  Batch loss : 1.3018962144851685\n",
            "Epoch(0/1 : Batch number(463/782)  Batch loss : 1.3189327716827393\n",
            "Epoch(0/1 : Batch number(464/782)  Batch loss : 1.590559959411621\n",
            "Epoch(0/1 : Batch number(465/782)  Batch loss : 1.6801718473434448\n",
            "Epoch(0/1 : Batch number(466/782)  Batch loss : 1.4028443098068237\n",
            "Epoch(0/1 : Batch number(467/782)  Batch loss : 1.3663250207901\n",
            "Epoch(0/1 : Batch number(468/782)  Batch loss : 1.3860163688659668\n",
            "Epoch(0/1 : Batch number(469/782)  Batch loss : 1.684980869293213\n",
            "Epoch(0/1 : Batch number(470/782)  Batch loss : 1.6258816719055176\n",
            "Epoch(0/1 : Batch number(471/782)  Batch loss : 1.672876238822937\n",
            "Epoch(0/1 : Batch number(472/782)  Batch loss : 1.618167757987976\n",
            "Epoch(0/1 : Batch number(473/782)  Batch loss : 1.4397144317626953\n",
            "Epoch(0/1 : Batch number(474/782)  Batch loss : 1.3800007104873657\n",
            "Epoch(0/1 : Batch number(475/782)  Batch loss : 1.3433175086975098\n",
            "Epoch(0/1 : Batch number(476/782)  Batch loss : 1.359023094177246\n",
            "Epoch(0/1 : Batch number(477/782)  Batch loss : 1.3588995933532715\n",
            "Epoch(0/1 : Batch number(478/782)  Batch loss : 1.4234784841537476\n",
            "Epoch(0/1 : Batch number(479/782)  Batch loss : 1.3705854415893555\n",
            "Epoch(0/1 : Batch number(480/782)  Batch loss : 1.4995133876800537\n",
            "Epoch(0/1 : Batch number(481/782)  Batch loss : 1.2772064208984375\n",
            "Epoch(0/1 : Batch number(482/782)  Batch loss : 1.3684743642807007\n",
            "Epoch(0/1 : Batch number(483/782)  Batch loss : 1.5199716091156006\n",
            "Epoch(0/1 : Batch number(484/782)  Batch loss : 1.250394344329834\n",
            "Epoch(0/1 : Batch number(485/782)  Batch loss : 1.8479266166687012\n",
            "Epoch(0/1 : Batch number(486/782)  Batch loss : 1.4704958200454712\n",
            "Epoch(0/1 : Batch number(487/782)  Batch loss : 1.480080008506775\n",
            "Epoch(0/1 : Batch number(488/782)  Batch loss : 1.3955590724945068\n",
            "Epoch(0/1 : Batch number(489/782)  Batch loss : 1.288529872894287\n",
            "Epoch(0/1 : Batch number(490/782)  Batch loss : 1.3793131113052368\n",
            "Epoch(0/1 : Batch number(491/782)  Batch loss : 1.515897274017334\n",
            "Epoch(0/1 : Batch number(492/782)  Batch loss : 1.4521510601043701\n",
            "Epoch(0/1 : Batch number(493/782)  Batch loss : 1.3458731174468994\n",
            "Epoch(0/1 : Batch number(494/782)  Batch loss : 1.4782739877700806\n",
            "Epoch(0/1 : Batch number(495/782)  Batch loss : 1.5414674282073975\n",
            "Epoch(0/1 : Batch number(496/782)  Batch loss : 1.3555408716201782\n",
            "Epoch(0/1 : Batch number(497/782)  Batch loss : 1.3155821561813354\n",
            "Epoch(0/1 : Batch number(498/782)  Batch loss : 1.697670578956604\n",
            "Epoch(0/1 : Batch number(499/782)  Batch loss : 1.3926877975463867\n",
            "Epoch(0/1 : Batch number(500/782)  Batch loss : 1.5383899211883545\n",
            "Epoch(0/1 : Batch number(501/782)  Batch loss : 1.4457080364227295\n",
            "Epoch(0/1 : Batch number(502/782)  Batch loss : 1.2348716259002686\n",
            "Epoch(0/1 : Batch number(503/782)  Batch loss : 1.2571748495101929\n",
            "Epoch(0/1 : Batch number(504/782)  Batch loss : 1.5159883499145508\n",
            "Epoch(0/1 : Batch number(505/782)  Batch loss : 1.4009270668029785\n",
            "Epoch(0/1 : Batch number(506/782)  Batch loss : 1.4417341947555542\n",
            "Epoch(0/1 : Batch number(507/782)  Batch loss : 1.2756729125976562\n",
            "Epoch(0/1 : Batch number(508/782)  Batch loss : 1.2853691577911377\n",
            "Epoch(0/1 : Batch number(509/782)  Batch loss : 1.339141607284546\n",
            "Epoch(0/1 : Batch number(510/782)  Batch loss : 1.4726554155349731\n",
            "Epoch(0/1 : Batch number(511/782)  Batch loss : 1.408212423324585\n",
            "Epoch(0/1 : Batch number(512/782)  Batch loss : 1.5016957521438599\n",
            "Epoch(0/1 : Batch number(513/782)  Batch loss : 1.2584583759307861\n",
            "Epoch(0/1 : Batch number(514/782)  Batch loss : 1.5026769638061523\n",
            "Epoch(0/1 : Batch number(515/782)  Batch loss : 1.3834559917449951\n",
            "Epoch(0/1 : Batch number(516/782)  Batch loss : 1.2778921127319336\n",
            "Epoch(0/1 : Batch number(517/782)  Batch loss : 1.508018970489502\n",
            "Epoch(0/1 : Batch number(518/782)  Batch loss : 1.521822452545166\n",
            "Epoch(0/1 : Batch number(519/782)  Batch loss : 1.2681609392166138\n",
            "Epoch(0/1 : Batch number(520/782)  Batch loss : 1.3143683671951294\n",
            "Epoch(0/1 : Batch number(521/782)  Batch loss : 1.2560161352157593\n",
            "Epoch(0/1 : Batch number(522/782)  Batch loss : 1.5309287309646606\n",
            "Epoch(0/1 : Batch number(523/782)  Batch loss : 1.5067222118377686\n",
            "Epoch(0/1 : Batch number(524/782)  Batch loss : 1.3270082473754883\n",
            "Epoch(0/1 : Batch number(525/782)  Batch loss : 1.4480595588684082\n",
            "Epoch(0/1 : Batch number(526/782)  Batch loss : 1.5802797079086304\n",
            "Epoch(0/1 : Batch number(527/782)  Batch loss : 1.382969617843628\n",
            "Epoch(0/1 : Batch number(528/782)  Batch loss : 1.3797430992126465\n",
            "Epoch(0/1 : Batch number(529/782)  Batch loss : 1.4640570878982544\n",
            "Epoch(0/1 : Batch number(530/782)  Batch loss : 1.357784628868103\n",
            "Epoch(0/1 : Batch number(531/782)  Batch loss : 1.6623833179473877\n",
            "Epoch(0/1 : Batch number(532/782)  Batch loss : 1.5475773811340332\n",
            "Epoch(0/1 : Batch number(533/782)  Batch loss : 1.3192243576049805\n",
            "Epoch(0/1 : Batch number(534/782)  Batch loss : 1.5529899597167969\n",
            "Epoch(0/1 : Batch number(535/782)  Batch loss : 1.3448574542999268\n",
            "Epoch(0/1 : Batch number(536/782)  Batch loss : 1.3778187036514282\n",
            "Epoch(0/1 : Batch number(537/782)  Batch loss : 1.3923941850662231\n",
            "Epoch(0/1 : Batch number(538/782)  Batch loss : 1.535556435585022\n",
            "Epoch(0/1 : Batch number(539/782)  Batch loss : 1.199916124343872\n",
            "Epoch(0/1 : Batch number(540/782)  Batch loss : 1.310808539390564\n",
            "Epoch(0/1 : Batch number(541/782)  Batch loss : 1.5925227403640747\n",
            "Epoch(0/1 : Batch number(542/782)  Batch loss : 1.5901669263839722\n",
            "Epoch(0/1 : Batch number(543/782)  Batch loss : 1.3585503101348877\n",
            "Epoch(0/1 : Batch number(544/782)  Batch loss : 1.5021100044250488\n",
            "Epoch(0/1 : Batch number(545/782)  Batch loss : 1.4593321084976196\n",
            "Epoch(0/1 : Batch number(546/782)  Batch loss : 1.3801828622817993\n",
            "Epoch(0/1 : Batch number(547/782)  Batch loss : 1.4292799234390259\n",
            "Epoch(0/1 : Batch number(548/782)  Batch loss : 1.408799171447754\n",
            "Epoch(0/1 : Batch number(549/782)  Batch loss : 1.5124151706695557\n",
            "Epoch(0/1 : Batch number(550/782)  Batch loss : 1.2735884189605713\n",
            "Epoch(0/1 : Batch number(551/782)  Batch loss : 1.2710721492767334\n",
            "Epoch(0/1 : Batch number(552/782)  Batch loss : 1.3135915994644165\n",
            "Epoch(0/1 : Batch number(553/782)  Batch loss : 1.2581901550292969\n",
            "Epoch(0/1 : Batch number(554/782)  Batch loss : 1.6070317029953003\n",
            "Epoch(0/1 : Batch number(555/782)  Batch loss : 1.6076956987380981\n",
            "Epoch(0/1 : Batch number(556/782)  Batch loss : 1.4780097007751465\n",
            "Epoch(0/1 : Batch number(557/782)  Batch loss : 1.448060154914856\n",
            "Epoch(0/1 : Batch number(558/782)  Batch loss : 1.546576976776123\n",
            "Epoch(0/1 : Batch number(559/782)  Batch loss : 1.6114070415496826\n",
            "Epoch(0/1 : Batch number(560/782)  Batch loss : 1.463355541229248\n",
            "Epoch(0/1 : Batch number(561/782)  Batch loss : 1.737998366355896\n",
            "Epoch(0/1 : Batch number(562/782)  Batch loss : 1.4986302852630615\n",
            "Epoch(0/1 : Batch number(563/782)  Batch loss : 1.586010217666626\n",
            "Epoch(0/1 : Batch number(564/782)  Batch loss : 1.4322199821472168\n",
            "Epoch(0/1 : Batch number(565/782)  Batch loss : 1.5810459852218628\n",
            "Epoch(0/1 : Batch number(566/782)  Batch loss : 1.5775854587554932\n",
            "Epoch(0/1 : Batch number(567/782)  Batch loss : 1.478928565979004\n",
            "Epoch(0/1 : Batch number(568/782)  Batch loss : 1.2141848802566528\n",
            "Epoch(0/1 : Batch number(569/782)  Batch loss : 1.160452961921692\n",
            "Epoch(0/1 : Batch number(570/782)  Batch loss : 1.4911625385284424\n",
            "Epoch(0/1 : Batch number(571/782)  Batch loss : 1.6172367334365845\n",
            "Epoch(0/1 : Batch number(572/782)  Batch loss : 1.461558222770691\n",
            "Epoch(0/1 : Batch number(573/782)  Batch loss : 1.463220238685608\n",
            "Epoch(0/1 : Batch number(574/782)  Batch loss : 1.261574149131775\n",
            "Epoch(0/1 : Batch number(575/782)  Batch loss : 1.4616498947143555\n",
            "Epoch(0/1 : Batch number(576/782)  Batch loss : 1.4502612352371216\n",
            "Epoch(0/1 : Batch number(577/782)  Batch loss : 1.5743095874786377\n",
            "Epoch(0/1 : Batch number(578/782)  Batch loss : 1.5805224180221558\n",
            "Epoch(0/1 : Batch number(579/782)  Batch loss : 1.364469289779663\n",
            "Epoch(0/1 : Batch number(580/782)  Batch loss : 1.3795901536941528\n",
            "Epoch(0/1 : Batch number(581/782)  Batch loss : 1.314557671546936\n",
            "Epoch(0/1 : Batch number(582/782)  Batch loss : 1.7578974962234497\n",
            "Epoch(0/1 : Batch number(583/782)  Batch loss : 1.2948954105377197\n",
            "Epoch(0/1 : Batch number(584/782)  Batch loss : 1.329710841178894\n",
            "Epoch(0/1 : Batch number(585/782)  Batch loss : 1.5554250478744507\n",
            "Epoch(0/1 : Batch number(586/782)  Batch loss : 1.2024013996124268\n",
            "Epoch(0/1 : Batch number(587/782)  Batch loss : 1.5512984991073608\n",
            "Epoch(0/1 : Batch number(588/782)  Batch loss : 1.3231899738311768\n",
            "Epoch(0/1 : Batch number(589/782)  Batch loss : 1.6719036102294922\n",
            "Epoch(0/1 : Batch number(590/782)  Batch loss : 1.3522042036056519\n",
            "Epoch(0/1 : Batch number(591/782)  Batch loss : 1.2319408655166626\n",
            "Epoch(0/1 : Batch number(592/782)  Batch loss : 1.5094449520111084\n",
            "Epoch(0/1 : Batch number(593/782)  Batch loss : 1.3968510627746582\n",
            "Epoch(0/1 : Batch number(594/782)  Batch loss : 1.4932204484939575\n",
            "Epoch(0/1 : Batch number(595/782)  Batch loss : 1.488433599472046\n",
            "Epoch(0/1 : Batch number(596/782)  Batch loss : 1.3992114067077637\n",
            "Epoch(0/1 : Batch number(597/782)  Batch loss : 1.4575036764144897\n",
            "Epoch(0/1 : Batch number(598/782)  Batch loss : 1.3827458620071411\n",
            "Epoch(0/1 : Batch number(599/782)  Batch loss : 1.3936275243759155\n",
            "Epoch(0/1 : Batch number(600/782)  Batch loss : 1.3853076696395874\n",
            "Epoch(0/1 : Batch number(601/782)  Batch loss : 1.4273655414581299\n",
            "Epoch(0/1 : Batch number(602/782)  Batch loss : 1.2366384267807007\n",
            "Epoch(0/1 : Batch number(603/782)  Batch loss : 1.1568995714187622\n",
            "Epoch(0/1 : Batch number(604/782)  Batch loss : 1.2579808235168457\n",
            "Epoch(0/1 : Batch number(605/782)  Batch loss : 1.320529818534851\n",
            "Epoch(0/1 : Batch number(606/782)  Batch loss : 1.2011510133743286\n",
            "Epoch(0/1 : Batch number(607/782)  Batch loss : 1.1882984638214111\n",
            "Epoch(0/1 : Batch number(608/782)  Batch loss : 1.5743083953857422\n",
            "Epoch(0/1 : Batch number(609/782)  Batch loss : 1.5382219552993774\n",
            "Epoch(0/1 : Batch number(610/782)  Batch loss : 1.1384587287902832\n",
            "Epoch(0/1 : Batch number(611/782)  Batch loss : 1.3626600503921509\n",
            "Epoch(0/1 : Batch number(612/782)  Batch loss : 1.5361742973327637\n",
            "Epoch(0/1 : Batch number(613/782)  Batch loss : 1.3251601457595825\n",
            "Epoch(0/1 : Batch number(614/782)  Batch loss : 1.3235044479370117\n",
            "Epoch(0/1 : Batch number(615/782)  Batch loss : 1.2947999238967896\n",
            "Epoch(0/1 : Batch number(616/782)  Batch loss : 1.4598572254180908\n",
            "Epoch(0/1 : Batch number(617/782)  Batch loss : 1.4287651777267456\n",
            "Epoch(0/1 : Batch number(618/782)  Batch loss : 1.242983102798462\n",
            "Epoch(0/1 : Batch number(619/782)  Batch loss : 1.4531347751617432\n",
            "Epoch(0/1 : Batch number(620/782)  Batch loss : 1.3214740753173828\n",
            "Epoch(0/1 : Batch number(621/782)  Batch loss : 1.5420619249343872\n",
            "Epoch(0/1 : Batch number(622/782)  Batch loss : 1.245440125465393\n",
            "Epoch(0/1 : Batch number(623/782)  Batch loss : 1.3636361360549927\n",
            "Epoch(0/1 : Batch number(624/782)  Batch loss : 1.301635503768921\n",
            "Epoch(0/1 : Batch number(625/782)  Batch loss : 1.2354806661605835\n",
            "Epoch(0/1 : Batch number(626/782)  Batch loss : 1.3594566583633423\n",
            "Epoch(0/1 : Batch number(627/782)  Batch loss : 1.4024454355239868\n",
            "Epoch(0/1 : Batch number(628/782)  Batch loss : 1.4013608694076538\n",
            "Epoch(0/1 : Batch number(629/782)  Batch loss : 1.3863368034362793\n",
            "Epoch(0/1 : Batch number(630/782)  Batch loss : 1.5215325355529785\n",
            "Epoch(0/1 : Batch number(631/782)  Batch loss : 1.3534650802612305\n",
            "Epoch(0/1 : Batch number(632/782)  Batch loss : 1.4353169202804565\n",
            "Epoch(0/1 : Batch number(633/782)  Batch loss : 1.0780221223831177\n",
            "Epoch(0/1 : Batch number(634/782)  Batch loss : 1.1543757915496826\n",
            "Epoch(0/1 : Batch number(635/782)  Batch loss : 1.4356039762496948\n",
            "Epoch(0/1 : Batch number(636/782)  Batch loss : 1.5293692350387573\n",
            "Epoch(0/1 : Batch number(637/782)  Batch loss : 1.385317087173462\n",
            "Epoch(0/1 : Batch number(638/782)  Batch loss : 1.225143551826477\n",
            "Epoch(0/1 : Batch number(639/782)  Batch loss : 1.4299687147140503\n",
            "Epoch(0/1 : Batch number(640/782)  Batch loss : 1.3626965284347534\n",
            "Epoch(0/1 : Batch number(641/782)  Batch loss : 1.1781049966812134\n",
            "Epoch(0/1 : Batch number(642/782)  Batch loss : 1.461193323135376\n",
            "Epoch(0/1 : Batch number(643/782)  Batch loss : 1.240789771080017\n",
            "Epoch(0/1 : Batch number(644/782)  Batch loss : 1.1329517364501953\n",
            "Epoch(0/1 : Batch number(645/782)  Batch loss : 1.3623696565628052\n",
            "Epoch(0/1 : Batch number(646/782)  Batch loss : 1.1682727336883545\n",
            "Epoch(0/1 : Batch number(647/782)  Batch loss : 1.2792195081710815\n",
            "Epoch(0/1 : Batch number(648/782)  Batch loss : 1.398930311203003\n",
            "Epoch(0/1 : Batch number(649/782)  Batch loss : 1.4506428241729736\n",
            "Epoch(0/1 : Batch number(650/782)  Batch loss : 1.4760185480117798\n",
            "Epoch(0/1 : Batch number(651/782)  Batch loss : 1.2814029455184937\n",
            "Epoch(0/1 : Batch number(652/782)  Batch loss : 1.154013752937317\n",
            "Epoch(0/1 : Batch number(653/782)  Batch loss : 1.4019904136657715\n",
            "Epoch(0/1 : Batch number(654/782)  Batch loss : 1.4544875621795654\n",
            "Epoch(0/1 : Batch number(655/782)  Batch loss : 1.3219740390777588\n",
            "Epoch(0/1 : Batch number(656/782)  Batch loss : 1.3325802087783813\n",
            "Epoch(0/1 : Batch number(657/782)  Batch loss : 1.1321014165878296\n",
            "Epoch(0/1 : Batch number(658/782)  Batch loss : 1.4539330005645752\n",
            "Epoch(0/1 : Batch number(659/782)  Batch loss : 1.4116530418395996\n",
            "Epoch(0/1 : Batch number(660/782)  Batch loss : 1.753319263458252\n",
            "Epoch(0/1 : Batch number(661/782)  Batch loss : 1.270503282546997\n",
            "Epoch(0/1 : Batch number(662/782)  Batch loss : 1.5416351556777954\n",
            "Epoch(0/1 : Batch number(663/782)  Batch loss : 1.3974248170852661\n",
            "Epoch(0/1 : Batch number(664/782)  Batch loss : 1.3261468410491943\n",
            "Epoch(0/1 : Batch number(665/782)  Batch loss : 1.3595268726348877\n",
            "Epoch(0/1 : Batch number(666/782)  Batch loss : 1.361350655555725\n",
            "Epoch(0/1 : Batch number(667/782)  Batch loss : 1.2877765893936157\n",
            "Epoch(0/1 : Batch number(668/782)  Batch loss : 1.2069969177246094\n",
            "Epoch(0/1 : Batch number(669/782)  Batch loss : 1.576312780380249\n",
            "Epoch(0/1 : Batch number(670/782)  Batch loss : 1.3593839406967163\n",
            "Epoch(0/1 : Batch number(671/782)  Batch loss : 1.3775030374526978\n",
            "Epoch(0/1 : Batch number(672/782)  Batch loss : 1.500420331954956\n",
            "Epoch(0/1 : Batch number(673/782)  Batch loss : 1.416797399520874\n",
            "Epoch(0/1 : Batch number(674/782)  Batch loss : 1.3271127939224243\n",
            "Epoch(0/1 : Batch number(675/782)  Batch loss : 1.4082621335983276\n",
            "Epoch(0/1 : Batch number(676/782)  Batch loss : 1.3263438940048218\n",
            "Epoch(0/1 : Batch number(677/782)  Batch loss : 1.3414877653121948\n",
            "Epoch(0/1 : Batch number(678/782)  Batch loss : 1.3910717964172363\n",
            "Epoch(0/1 : Batch number(679/782)  Batch loss : 1.359894037246704\n",
            "Epoch(0/1 : Batch number(680/782)  Batch loss : 1.2778955698013306\n",
            "Epoch(0/1 : Batch number(681/782)  Batch loss : 1.3343394994735718\n",
            "Epoch(0/1 : Batch number(682/782)  Batch loss : 1.4966634511947632\n",
            "Epoch(0/1 : Batch number(683/782)  Batch loss : 1.2914375066757202\n",
            "Epoch(0/1 : Batch number(684/782)  Batch loss : 1.2266464233398438\n",
            "Epoch(0/1 : Batch number(685/782)  Batch loss : 1.2310599088668823\n",
            "Epoch(0/1 : Batch number(686/782)  Batch loss : 1.7138450145721436\n",
            "Epoch(0/1 : Batch number(687/782)  Batch loss : 1.1769086122512817\n",
            "Epoch(0/1 : Batch number(688/782)  Batch loss : 1.4269561767578125\n",
            "Epoch(0/1 : Batch number(689/782)  Batch loss : 1.2766218185424805\n",
            "Epoch(0/1 : Batch number(690/782)  Batch loss : 1.3614163398742676\n",
            "Epoch(0/1 : Batch number(691/782)  Batch loss : 1.3193107843399048\n",
            "Epoch(0/1 : Batch number(692/782)  Batch loss : 1.531733512878418\n",
            "Epoch(0/1 : Batch number(693/782)  Batch loss : 1.2216345071792603\n",
            "Epoch(0/1 : Batch number(694/782)  Batch loss : 1.2888293266296387\n",
            "Epoch(0/1 : Batch number(695/782)  Batch loss : 1.2658095359802246\n",
            "Epoch(0/1 : Batch number(696/782)  Batch loss : 1.0256205797195435\n",
            "Epoch(0/1 : Batch number(697/782)  Batch loss : 1.0800689458847046\n",
            "Epoch(0/1 : Batch number(698/782)  Batch loss : 1.4110997915267944\n",
            "Epoch(0/1 : Batch number(699/782)  Batch loss : 1.4946244955062866\n",
            "Epoch(0/1 : Batch number(700/782)  Batch loss : 1.2031317949295044\n",
            "Epoch(0/1 : Batch number(701/782)  Batch loss : 1.2425360679626465\n",
            "Epoch(0/1 : Batch number(702/782)  Batch loss : 1.44283926486969\n",
            "Epoch(0/1 : Batch number(703/782)  Batch loss : 1.3206313848495483\n",
            "Epoch(0/1 : Batch number(704/782)  Batch loss : 1.5837002992630005\n",
            "Epoch(0/1 : Batch number(705/782)  Batch loss : 1.2547342777252197\n",
            "Epoch(0/1 : Batch number(706/782)  Batch loss : 1.3670027256011963\n",
            "Epoch(0/1 : Batch number(707/782)  Batch loss : 1.176918625831604\n",
            "Epoch(0/1 : Batch number(708/782)  Batch loss : 1.252995252609253\n",
            "Epoch(0/1 : Batch number(709/782)  Batch loss : 1.3041203022003174\n",
            "Epoch(0/1 : Batch number(710/782)  Batch loss : 1.18685781955719\n",
            "Epoch(0/1 : Batch number(711/782)  Batch loss : 1.3855572938919067\n",
            "Epoch(0/1 : Batch number(712/782)  Batch loss : 1.2744985818862915\n",
            "Epoch(0/1 : Batch number(713/782)  Batch loss : 1.243721842765808\n",
            "Epoch(0/1 : Batch number(714/782)  Batch loss : 1.69358491897583\n",
            "Epoch(0/1 : Batch number(715/782)  Batch loss : 1.180906891822815\n",
            "Epoch(0/1 : Batch number(716/782)  Batch loss : 1.4324545860290527\n",
            "Epoch(0/1 : Batch number(717/782)  Batch loss : 1.3206403255462646\n",
            "Epoch(0/1 : Batch number(718/782)  Batch loss : 1.2654187679290771\n",
            "Epoch(0/1 : Batch number(719/782)  Batch loss : 1.5563006401062012\n",
            "Epoch(0/1 : Batch number(720/782)  Batch loss : 1.481963872909546\n",
            "Epoch(0/1 : Batch number(721/782)  Batch loss : 1.496579647064209\n",
            "Epoch(0/1 : Batch number(722/782)  Batch loss : 1.4058626890182495\n",
            "Epoch(0/1 : Batch number(723/782)  Batch loss : 1.2317143678665161\n",
            "Epoch(0/1 : Batch number(724/782)  Batch loss : 1.5671225786209106\n",
            "Epoch(0/1 : Batch number(725/782)  Batch loss : 1.3065814971923828\n",
            "Epoch(0/1 : Batch number(726/782)  Batch loss : 1.2291170358657837\n",
            "Epoch(0/1 : Batch number(727/782)  Batch loss : 1.2231512069702148\n",
            "Epoch(0/1 : Batch number(728/782)  Batch loss : 1.4986588954925537\n",
            "Epoch(0/1 : Batch number(729/782)  Batch loss : 1.1960878372192383\n",
            "Epoch(0/1 : Batch number(730/782)  Batch loss : 1.3230435848236084\n",
            "Epoch(0/1 : Batch number(731/782)  Batch loss : 1.3852754831314087\n",
            "Epoch(0/1 : Batch number(732/782)  Batch loss : 1.3385848999023438\n",
            "Epoch(0/1 : Batch number(733/782)  Batch loss : 1.3828948736190796\n",
            "Epoch(0/1 : Batch number(734/782)  Batch loss : 1.2351523637771606\n",
            "Epoch(0/1 : Batch number(735/782)  Batch loss : 1.3967198133468628\n",
            "Epoch(0/1 : Batch number(736/782)  Batch loss : 1.5696985721588135\n",
            "Epoch(0/1 : Batch number(737/782)  Batch loss : 1.2302234172821045\n",
            "Epoch(0/1 : Batch number(738/782)  Batch loss : 1.2136787176132202\n",
            "Epoch(0/1 : Batch number(739/782)  Batch loss : 1.5957369804382324\n",
            "Epoch(0/1 : Batch number(740/782)  Batch loss : 1.0916708707809448\n",
            "Epoch(0/1 : Batch number(741/782)  Batch loss : 1.518428087234497\n",
            "Epoch(0/1 : Batch number(742/782)  Batch loss : 1.3634841442108154\n",
            "Epoch(0/1 : Batch number(743/782)  Batch loss : 1.765410304069519\n",
            "Epoch(0/1 : Batch number(744/782)  Batch loss : 1.2314481735229492\n",
            "Epoch(0/1 : Batch number(745/782)  Batch loss : 1.2519012689590454\n",
            "Epoch(0/1 : Batch number(746/782)  Batch loss : 1.217846155166626\n",
            "Epoch(0/1 : Batch number(747/782)  Batch loss : 1.484803557395935\n",
            "Epoch(0/1 : Batch number(748/782)  Batch loss : 1.388299822807312\n",
            "Epoch(0/1 : Batch number(749/782)  Batch loss : 1.355858564376831\n",
            "Epoch(0/1 : Batch number(750/782)  Batch loss : 1.363832950592041\n",
            "Epoch(0/1 : Batch number(751/782)  Batch loss : 1.2587217092514038\n",
            "Epoch(0/1 : Batch number(752/782)  Batch loss : 1.5851749181747437\n",
            "Epoch(0/1 : Batch number(753/782)  Batch loss : 1.2405704259872437\n",
            "Epoch(0/1 : Batch number(754/782)  Batch loss : 1.2227426767349243\n",
            "Epoch(0/1 : Batch number(755/782)  Batch loss : 0.9626234769821167\n",
            "Epoch(0/1 : Batch number(756/782)  Batch loss : 1.2952312231063843\n",
            "Epoch(0/1 : Batch number(757/782)  Batch loss : 1.1787067651748657\n",
            "Epoch(0/1 : Batch number(758/782)  Batch loss : 1.3995648622512817\n",
            "Epoch(0/1 : Batch number(759/782)  Batch loss : 1.3426088094711304\n",
            "Epoch(0/1 : Batch number(760/782)  Batch loss : 1.2177239656448364\n",
            "Epoch(0/1 : Batch number(761/782)  Batch loss : 1.4953129291534424\n",
            "Epoch(0/1 : Batch number(762/782)  Batch loss : 1.1732555627822876\n",
            "Epoch(0/1 : Batch number(763/782)  Batch loss : 1.1211827993392944\n",
            "Epoch(0/1 : Batch number(764/782)  Batch loss : 1.3512287139892578\n",
            "Epoch(0/1 : Batch number(765/782)  Batch loss : 1.4137064218521118\n",
            "Epoch(0/1 : Batch number(766/782)  Batch loss : 1.5419695377349854\n",
            "Epoch(0/1 : Batch number(767/782)  Batch loss : 1.2129014730453491\n",
            "Epoch(0/1 : Batch number(768/782)  Batch loss : 1.495273470878601\n",
            "Epoch(0/1 : Batch number(769/782)  Batch loss : 1.1570276021957397\n",
            "Epoch(0/1 : Batch number(770/782)  Batch loss : 1.5382452011108398\n",
            "Epoch(0/1 : Batch number(771/782)  Batch loss : 1.309178113937378\n",
            "Epoch(0/1 : Batch number(772/782)  Batch loss : 1.275632381439209\n",
            "Epoch(0/1 : Batch number(773/782)  Batch loss : 1.199201226234436\n",
            "Epoch(0/1 : Batch number(774/782)  Batch loss : 1.5434046983718872\n",
            "Epoch(0/1 : Batch number(775/782)  Batch loss : 1.2826236486434937\n",
            "Epoch(0/1 : Batch number(776/782)  Batch loss : 1.4354218244552612\n",
            "Epoch(0/1 : Batch number(777/782)  Batch loss : 1.2791184186935425\n",
            "Epoch(0/1 : Batch number(778/782)  Batch loss : 1.233082890510559\n",
            "Epoch(0/1 : Batch number(779/782)  Batch loss : 1.1542826890945435\n",
            "Epoch(0/1 : Batch number(780/782)  Batch loss : 1.3715909719467163\n",
            "Epoch(0/1 : Batch number(781/782)  Batch loss : 1.1315553188323975\n",
            "Epoch(0/1 : Batch number(782/782)  Batch loss : 1.4347904920578003\n",
            "Training loss : 1.6149828932474337\n"
          ],
          "name": "stdout"
        }
      ]
    },
    {
      "cell_type": "markdown",
      "metadata": {
        "id": "QmiIFDJXDsan",
        "colab_type": "text"
      },
      "source": [
        "## Evaluating thet network and viewing images"
      ]
    },
    {
      "cell_type": "code",
      "metadata": {
        "id": "8Tg9qA_FD-X8",
        "colab_type": "code",
        "colab": {}
      },
      "source": [
        "import matplotlib.pyplot as plt\n",
        "%matplotlib inline\n",
        "import numpy as np"
      ],
      "execution_count": 14,
      "outputs": []
    },
    {
      "cell_type": "code",
      "metadata": {
        "id": "IPuKt5cONpz9",
        "colab_type": "code",
        "colab": {
          "base_uri": "https://localhost:8080/",
          "height": 1000
        },
        "outputId": "358978d5-4fbf-4c2e-b41f-e80f53f5600d"
      },
      "source": [
        "CIFAR10_classes = ['plane', 'car', 'bird', 'cat',\n",
        "           'deer', 'dog', 'frog', 'horse', 'ship', 'truck']\n",
        "\n",
        "\n",
        "model.to('cpu')\n",
        "\n",
        "model.eval()\n",
        "\n",
        "with torch.no_grad():\n",
        "  images, labels = next(iter(testloader))\n",
        "  logps = model(images)\n",
        "  \n",
        "  output = torch.exp(logps)\n",
        "  print(output)\n"
      ],
      "execution_count": 15,
      "outputs": [
        {
          "output_type": "stream",
          "text": [
            "tensor([[8.9535e-03, 7.5406e-03, 5.6266e-02, 3.7977e-01, 4.3507e-02, 3.1659e-01,\n",
            "         1.0192e-01, 4.9868e-02, 1.0199e-02, 2.5390e-02],\n",
            "        [1.4623e-01, 7.1989e-01, 5.1238e-04, 1.3510e-04, 1.4238e-04, 5.9781e-05,\n",
            "         4.5455e-05, 7.0501e-05, 1.1587e-01, 1.7052e-02],\n",
            "        [7.6202e-02, 4.1724e-01, 1.2448e-02, 1.7354e-02, 3.4782e-03, 7.3347e-03,\n",
            "         4.8429e-03, 5.1707e-03, 3.4122e-01, 1.1471e-01],\n",
            "        [1.3886e-01, 6.0757e-02, 4.7615e-02, 2.6918e-02, 1.3427e-02, 9.1419e-03,\n",
            "         1.1009e-02, 1.1353e-02, 6.5229e-01, 2.8634e-02],\n",
            "        [1.4741e-03, 1.3981e-04, 2.3928e-01, 8.9422e-02, 4.2875e-01, 5.8464e-02,\n",
            "         1.7348e-01, 7.9596e-03, 3.3572e-04, 6.9183e-04],\n",
            "        [1.0207e-04, 3.0435e-05, 6.3103e-02, 2.0987e-01, 9.7681e-02, 1.0167e-01,\n",
            "         5.2187e-01, 5.4416e-03, 4.4075e-05, 1.9090e-04],\n",
            "        [1.3693e-02, 1.9323e-01, 2.1804e-02, 6.2643e-02, 8.6214e-03, 6.0262e-02,\n",
            "         7.4197e-02, 1.2132e-02, 1.1946e-02, 5.4147e-01],\n",
            "        [1.4617e-03, 1.0735e-04, 2.1588e-01, 2.3661e-01, 2.1690e-01, 1.6496e-01,\n",
            "         1.5458e-01, 8.1773e-03, 5.1276e-04, 8.0857e-04],\n",
            "        [1.0460e-03, 1.6801e-04, 1.2542e-01, 1.7308e-01, 3.3009e-01, 3.0001e-01,\n",
            "         3.9656e-02, 2.9262e-02, 2.6807e-04, 9.9804e-04],\n",
            "        [1.2966e-01, 5.2664e-01, 2.0331e-02, 2.1442e-02, 1.6875e-02, 1.8949e-02,\n",
            "         1.7687e-02, 2.0385e-02, 9.0082e-02, 1.3796e-01],\n",
            "        [2.7842e-01, 3.3360e-03, 1.5719e-01, 1.0125e-01, 5.3014e-02, 5.4562e-02,\n",
            "         5.0269e-02, 1.8006e-02, 2.6814e-01, 1.5822e-02],\n",
            "        [3.9286e-04, 8.3121e-03, 6.8613e-06, 3.1989e-04, 3.5805e-06, 1.9961e-04,\n",
            "         3.1605e-05, 5.9558e-05, 1.7924e-04, 9.9049e-01],\n",
            "        [1.1530e-03, 3.6799e-04, 1.0573e-01, 2.8338e-01, 1.7292e-01, 2.2646e-01,\n",
            "         1.8713e-01, 2.1047e-02, 4.6407e-04, 1.3524e-03],\n",
            "        [1.2688e-03, 1.6653e-03, 7.2822e-02, 1.4048e-01, 1.1034e-01, 1.2248e-01,\n",
            "         5.1958e-01, 2.4836e-02, 6.4897e-04, 5.8812e-03],\n",
            "        [4.4509e-03, 5.8124e-03, 1.0983e-04, 5.6815e-03, 1.3188e-04, 1.0099e-03,\n",
            "         4.7237e-04, 1.6336e-03, 1.7098e-03, 9.7899e-01],\n",
            "        [6.6598e-02, 2.4477e-03, 3.4201e-01, 1.1741e-01, 9.7839e-02, 6.2701e-02,\n",
            "         1.9584e-01, 1.8255e-02, 8.6886e-02, 1.0013e-02],\n",
            "        [1.5188e-03, 1.0514e-03, 7.6068e-02, 4.7385e-01, 3.6482e-02, 3.2225e-01,\n",
            "         6.2393e-02, 1.8328e-02, 1.7836e-03, 6.2760e-03],\n",
            "        [4.6607e-02, 2.7204e-02, 8.9503e-02, 1.8194e-01, 1.3823e-01, 1.5096e-01,\n",
            "         9.4782e-02, 1.3543e-01, 3.9161e-02, 9.6180e-02],\n",
            "        [6.8275e-02, 1.6223e-03, 4.2652e-03, 4.4683e-03, 1.8199e-03, 5.7130e-04,\n",
            "         1.5132e-03, 1.6251e-03, 9.0498e-01, 1.0864e-02],\n",
            "        [4.0621e-05, 2.3098e-06, 4.1092e-02, 5.0053e-03, 9.3948e-02, 1.5012e-03,\n",
            "         8.5807e-01, 3.3652e-04, 3.1197e-06, 5.9015e-06],\n",
            "        [3.2645e-04, 9.9911e-05, 5.1661e-03, 4.3197e-03, 1.3655e-01, 2.9674e-02,\n",
            "         4.9153e-04, 8.2297e-01, 2.6014e-05, 3.6893e-04],\n",
            "        [7.5373e-01, 3.6364e-04, 1.5997e-01, 1.1492e-02, 2.5528e-02, 6.3831e-03,\n",
            "         5.1258e-03, 2.7260e-03, 3.2899e-02, 1.7827e-03],\n",
            "        [3.4129e-02, 1.8926e-04, 5.0791e-01, 5.4390e-02, 3.2386e-01, 5.0847e-02,\n",
            "         1.6726e-02, 6.6751e-03, 3.8363e-03, 1.4343e-03],\n",
            "        [9.2118e-04, 1.1816e-01, 1.0142e-05, 1.8079e-04, 1.4256e-05, 1.5093e-04,\n",
            "         1.6939e-04, 1.5273e-04, 2.2432e-04, 8.8002e-01],\n",
            "        [1.8673e-03, 9.0127e-05, 2.6553e-01, 5.4730e-02, 5.2955e-01, 9.0570e-02,\n",
            "         4.5038e-02, 1.1688e-02, 3.0888e-04, 6.2704e-04],\n",
            "        [9.7989e-03, 1.5060e-03, 2.7554e-01, 7.3206e-02, 1.9381e-01, 3.3483e-01,\n",
            "         3.4152e-02, 6.5824e-02, 2.6584e-03, 8.6704e-03],\n",
            "        [8.5932e-04, 4.9405e-05, 1.8326e-01, 3.9764e-02, 3.6067e-01, 3.1194e-02,\n",
            "         3.7878e-01, 5.0342e-03, 1.2326e-04, 2.5712e-04],\n",
            "        [9.2719e-02, 3.1431e-03, 3.2873e-01, 1.3311e-01, 1.7443e-01, 1.2347e-01,\n",
            "         7.6452e-02, 3.1685e-02, 2.5854e-02, 1.0412e-02],\n",
            "        [2.9076e-02, 5.5454e-02, 2.4925e-02, 1.7412e-01, 3.6021e-02, 8.5066e-02,\n",
            "         6.2376e-02, 5.2280e-02, 2.1146e-02, 4.5953e-01],\n",
            "        [1.0037e-03, 1.2489e-04, 2.7464e-01, 9.0776e-02, 1.0688e-01, 8.0655e-02,\n",
            "         4.4018e-01, 4.2885e-03, 5.4982e-04, 9.0381e-04],\n",
            "        [7.7836e-05, 2.9883e-05, 3.7642e-02, 6.2460e-02, 4.1353e-02, 3.1769e-02,\n",
            "         8.2421e-01, 2.2868e-03, 3.5692e-05, 1.3062e-04],\n",
            "        [5.8707e-04, 1.5174e-05, 1.2437e-01, 4.3774e-02, 6.9438e-01, 9.7519e-02,\n",
            "         2.8285e-02, 1.0894e-02, 4.2207e-05, 1.2846e-04],\n",
            "        [2.0718e-03, 9.5594e-05, 4.3451e-01, 7.0054e-02, 2.6089e-01, 5.5568e-02,\n",
            "         1.7082e-01, 5.0372e-03, 4.0619e-04, 5.4674e-04],\n",
            "        [7.7530e-04, 2.3882e-04, 8.9675e-02, 2.9300e-01, 1.3259e-01, 4.0098e-01,\n",
            "         6.0887e-02, 2.0096e-02, 3.1593e-04, 1.4393e-03],\n",
            "        [4.2053e-02, 1.2136e-02, 7.0931e-04, 5.9691e-03, 1.0220e-03, 1.9601e-03,\n",
            "         2.0604e-03, 1.3009e-02, 1.1842e-02, 9.0924e-01],\n",
            "        [3.4732e-03, 1.0001e-03, 2.1652e-01, 2.0197e-01, 1.9070e-01, 1.6797e-01,\n",
            "         1.8946e-01, 2.0619e-02, 1.6292e-03, 6.6638e-03],\n",
            "        [1.8354e-03, 1.6959e-04, 1.7116e-01, 8.3843e-02, 3.6572e-01, 2.5310e-01,\n",
            "         8.1608e-02, 4.1126e-02, 3.3324e-04, 1.1093e-03],\n",
            "        [3.5565e-02, 3.9104e-01, 5.8268e-03, 1.2817e-02, 6.2275e-03, 1.3194e-02,\n",
            "         7.6255e-03, 1.1302e-02, 1.8418e-02, 4.9798e-01],\n",
            "        [3.9619e-02, 1.4810e-01, 3.1531e-03, 1.9183e-02, 3.2343e-03, 1.0017e-02,\n",
            "         1.3055e-02, 1.1825e-02, 2.3155e-02, 7.2866e-01],\n",
            "        [2.6823e-03, 5.8508e-04, 1.3126e-01, 3.3452e-01, 3.5888e-02, 4.2001e-01,\n",
            "         5.8289e-02, 1.0621e-02, 3.1720e-03, 2.9648e-03],\n",
            "        [1.0990e-01, 1.0072e-02, 2.1387e-01, 5.8363e-02, 2.9594e-01, 6.1996e-02,\n",
            "         5.7556e-02, 1.4745e-01, 1.9960e-02, 2.4893e-02],\n",
            "        [1.5260e-03, 6.7723e-04, 1.1780e-01, 1.4824e-01, 9.3859e-02, 6.9182e-02,\n",
            "         5.5353e-01, 1.2218e-02, 9.8958e-04, 1.9720e-03],\n",
            "        [3.1243e-03, 5.3990e-04, 4.1829e-02, 8.5410e-02, 1.4388e-01, 1.5685e-01,\n",
            "         3.3953e-02, 5.2844e-01, 1.0274e-03, 4.9361e-03],\n",
            "        [1.5070e-03, 2.3250e-04, 1.4079e-01, 5.4702e-02, 2.5262e-01, 7.0615e-02,\n",
            "         4.6011e-01, 1.8231e-02, 3.7150e-04, 8.2457e-04],\n",
            "        [2.6069e-01, 1.3209e-02, 2.2721e-01, 2.7740e-02, 3.4709e-02, 9.7561e-03,\n",
            "         1.8513e-02, 6.8682e-03, 3.3014e-01, 7.1170e-02],\n",
            "        [1.4278e-02, 5.9661e-02, 7.6496e-04, 8.2559e-03, 6.5769e-04, 4.6241e-03,\n",
            "         2.5257e-03, 3.1814e-03, 7.4583e-03, 8.9859e-01],\n",
            "        [1.1081e-03, 1.7466e-04, 6.9753e-02, 3.8515e-01, 1.0380e-01, 3.9321e-01,\n",
            "         2.4033e-02, 2.0924e-02, 5.2501e-04, 1.3198e-03],\n",
            "        [4.3733e-02, 3.1031e-02, 5.2759e-02, 1.9043e-01, 7.1114e-02, 1.3215e-01,\n",
            "         6.4695e-02, 2.2142e-01, 4.8274e-02, 1.4440e-01],\n",
            "        [1.3096e-04, 9.5736e-06, 1.5928e-02, 2.1946e-03, 5.6777e-01, 3.1779e-02,\n",
            "         1.5893e-03, 3.8055e-01, 5.8531e-06, 4.9799e-05],\n",
            "        [3.5031e-03, 3.2343e-05, 5.4740e-01, 1.9901e-02, 2.8695e-01, 1.2845e-02,\n",
            "         1.2696e-01, 1.9046e-03, 2.8822e-04, 2.1330e-04],\n",
            "        [4.6837e-03, 3.5730e-03, 3.4269e-04, 6.1713e-03, 2.8783e-04, 1.7323e-03,\n",
            "         1.3302e-03, 3.7230e-03, 7.5228e-03, 9.7063e-01],\n",
            "        [4.9968e-02, 2.2168e-03, 5.4118e-01, 6.4679e-02, 9.4688e-02, 3.5143e-02,\n",
            "         6.5220e-02, 1.2637e-02, 1.1026e-01, 2.4006e-02],\n",
            "        [3.9868e-03, 2.5767e-04, 4.5420e-01, 6.3135e-02, 1.4418e-01, 3.3476e-02,\n",
            "         2.9354e-01, 4.1512e-03, 1.5846e-03, 1.4947e-03],\n",
            "        [1.2503e-03, 6.4240e-04, 1.2041e-01, 2.1167e-01, 9.2134e-02, 1.2687e-01,\n",
            "         4.3029e-01, 1.2141e-02, 9.6660e-04, 3.6269e-03],\n",
            "        [1.1746e-02, 7.3955e-04, 2.2902e-04, 1.0820e-04, 2.2611e-05, 5.3373e-06,\n",
            "         1.0182e-05, 2.3039e-05, 9.8681e-01, 3.0551e-04],\n",
            "        [1.7181e-01, 7.4386e-04, 4.3128e-01, 5.6527e-02, 2.3420e-02, 2.7669e-02,\n",
            "         1.7473e-02, 6.9961e-03, 2.5479e-01, 9.2946e-03],\n",
            "        [1.7638e-03, 5.9929e-04, 6.4721e-02, 7.1450e-02, 2.4655e-01, 1.1447e-01,\n",
            "         3.0950e-01, 1.8804e-01, 4.2087e-04, 2.4839e-03],\n",
            "        [1.7838e-02, 5.7379e-03, 1.8239e-01, 2.6010e-01, 6.9259e-02, 1.3979e-01,\n",
            "         2.4478e-01, 3.6148e-02, 2.8916e-02, 1.5052e-02],\n",
            "        [1.0975e-02, 2.2884e-03, 1.1259e-01, 3.1404e-01, 5.2505e-02, 2.3150e-01,\n",
            "         2.0637e-01, 3.6711e-02, 1.9838e-02, 1.3184e-02],\n",
            "        [2.5549e-04, 1.8232e-04, 1.7196e-02, 4.5801e-01, 3.7480e-02, 4.3344e-01,\n",
            "         3.4303e-02, 1.8180e-02, 1.6747e-04, 7.8951e-04],\n",
            "        [1.1472e-04, 1.3865e-05, 1.6196e-02, 5.0408e-03, 4.2683e-01, 7.0578e-02,\n",
            "         2.5881e-03, 4.7853e-01, 9.5916e-06, 9.6623e-05],\n",
            "        [1.0853e-03, 2.0457e-04, 1.7697e-01, 3.0547e-01, 1.3865e-01, 2.1300e-01,\n",
            "         1.5117e-01, 1.1279e-02, 6.2290e-04, 1.5450e-03],\n",
            "        [1.6245e-03, 9.3010e-05, 1.3138e-01, 2.5598e-02, 1.5995e-01, 1.1188e-02,\n",
            "         6.6693e-01, 2.6814e-03, 2.8576e-04, 2.6889e-04],\n",
            "        [1.2287e-01, 1.8502e-02, 1.5592e-01, 2.4825e-01, 5.5461e-02, 1.8088e-01,\n",
            "         2.8323e-02, 5.3041e-02, 9.4444e-02, 4.2306e-02]])\n"
          ],
          "name": "stdout"
        }
      ]
    },
    {
      "cell_type": "code",
      "metadata": {
        "id": "dAHiRMrLDqWt",
        "colab_type": "code",
        "colab": {
          "base_uri": "https://localhost:8080/",
          "height": 833
        },
        "outputId": "15d61a28-db1c-496f-d467-c7d57cab65e7"
      },
      "source": [
        "CIFAR10_classes = ['plane', 'car', 'bird', 'cat',\n",
        "           'deer', 'dog', 'frog', 'horse', 'ship', 'truck']\n",
        "\n",
        "\n",
        "model.to('cpu')\n",
        "\n",
        "model.eval()\n",
        "\n",
        "with torch.no_grad():\n",
        "  images, labels = next(iter(testloader))\n",
        "  logps = model(images)\n",
        "  \n",
        "  output = torch.exp(logps)\n",
        "  \n",
        "  pred = torch.argmax(output,1)\n",
        "    \n",
        "model.train()"
      ],
      "execution_count": 16,
      "outputs": [
        {
          "output_type": "execute_result",
          "data": {
            "text/plain": [
              "VGG(\n",
              "  (features): Sequential(\n",
              "    (0): Conv2d(3, 64, kernel_size=(3, 3), stride=(1, 1), padding=(1, 1))\n",
              "    (1): ReLU(inplace=True)\n",
              "    (2): Conv2d(64, 64, kernel_size=(3, 3), stride=(1, 1), padding=(1, 1))\n",
              "    (3): ReLU(inplace=True)\n",
              "    (4): MaxPool2d(kernel_size=2, stride=2, padding=0, dilation=1, ceil_mode=False)\n",
              "    (5): Conv2d(64, 128, kernel_size=(3, 3), stride=(1, 1), padding=(1, 1))\n",
              "    (6): ReLU(inplace=True)\n",
              "    (7): Conv2d(128, 128, kernel_size=(3, 3), stride=(1, 1), padding=(1, 1))\n",
              "    (8): ReLU(inplace=True)\n",
              "    (9): MaxPool2d(kernel_size=2, stride=2, padding=0, dilation=1, ceil_mode=False)\n",
              "    (10): Conv2d(128, 256, kernel_size=(3, 3), stride=(1, 1), padding=(1, 1))\n",
              "    (11): ReLU(inplace=True)\n",
              "    (12): Conv2d(256, 256, kernel_size=(3, 3), stride=(1, 1), padding=(1, 1))\n",
              "    (13): ReLU(inplace=True)\n",
              "    (14): Conv2d(256, 256, kernel_size=(3, 3), stride=(1, 1), padding=(1, 1))\n",
              "    (15): ReLU(inplace=True)\n",
              "    (16): MaxPool2d(kernel_size=2, stride=2, padding=0, dilation=1, ceil_mode=False)\n",
              "    (17): Conv2d(256, 512, kernel_size=(3, 3), stride=(1, 1), padding=(1, 1))\n",
              "    (18): ReLU(inplace=True)\n",
              "    (19): Conv2d(512, 512, kernel_size=(3, 3), stride=(1, 1), padding=(1, 1))\n",
              "    (20): ReLU(inplace=True)\n",
              "    (21): Conv2d(512, 512, kernel_size=(3, 3), stride=(1, 1), padding=(1, 1))\n",
              "    (22): ReLU(inplace=True)\n",
              "    (23): MaxPool2d(kernel_size=2, stride=2, padding=0, dilation=1, ceil_mode=False)\n",
              "    (24): Conv2d(512, 512, kernel_size=(3, 3), stride=(1, 1), padding=(1, 1))\n",
              "    (25): ReLU(inplace=True)\n",
              "    (26): Conv2d(512, 512, kernel_size=(3, 3), stride=(1, 1), padding=(1, 1))\n",
              "    (27): ReLU(inplace=True)\n",
              "    (28): Conv2d(512, 512, kernel_size=(3, 3), stride=(1, 1), padding=(1, 1))\n",
              "    (29): ReLU(inplace=True)\n",
              "    (30): MaxPool2d(kernel_size=2, stride=2, padding=0, dilation=1, ceil_mode=False)\n",
              "  )\n",
              "  (avgpool): AdaptiveAvgPool2d(output_size=(7, 7))\n",
              "  (classifier): Sequential(\n",
              "    (0): Linear(in_features=25088, out_features=4096, bias=True)\n",
              "    (1): ReLU(inplace=True)\n",
              "    (2): Dropout(p=0.5, inplace=False)\n",
              "    (3): Linear(in_features=4096, out_features=4096, bias=True)\n",
              "    (4): ReLU(inplace=True)\n",
              "    (5): Dropout(p=0.5, inplace=False)\n",
              "    (6): Sequential(\n",
              "      (0): Linear(in_features=4096, out_features=10, bias=True)\n",
              "      (1): LogSoftmax(dim=1)\n",
              "    )\n",
              "  )\n",
              ")"
            ]
          },
          "metadata": {
            "tags": []
          },
          "execution_count": 16
        }
      ]
    },
    {
      "cell_type": "code",
      "metadata": {
        "id": "xaef1eekLP9h",
        "colab_type": "code",
        "colab": {
          "base_uri": "https://localhost:8080/",
          "height": 337
        },
        "outputId": "5ec5da05-8f14-4220-8103-6975265b2851"
      },
      "source": [
        "test_image_id=[2,4,5,7]\n",
        "\n",
        "def denormalize(tensor):\n",
        "  tensor = tensor*std+ mean\n",
        "  return tensor\n",
        "\n",
        "def show_img(img):\n",
        "  img = img.numpy().transpose((1,2,0))\n",
        "  img = denormalize(img)\n",
        "  img = np.clip(img,0,1)\n",
        "  plt.imshow(img)\n",
        "  \n",
        "def get_CIFAR10_class(id):\n",
        "  CIFAR10_classes = ['plane', 'car', 'bird', 'cat',\n",
        "           'deer', 'dog', 'frog', 'horse', 'ship', 'truck']\n",
        "  return CIFAR10_classes[id]\n",
        "\n",
        "for i in test_image_id:\n",
        "  show_img(images[i])\n",
        "  print(get_CIFAR10_class(pred[i]))"
      ],
      "execution_count": 17,
      "outputs": [
        {
          "output_type": "stream",
          "text": [
            "car\n",
            "deer\n",
            "frog\n",
            "cat\n"
          ],
          "name": "stdout"
        },
        {
          "output_type": "display_data",
          "data": {
            "image/png": "[encoded data removed]",
            "text/plain": [
              "<Figure size 432x288 with 1 Axes>"
            ]
          },
          "metadata": {
            "tags": [],
            "needs_background": "light"
          }
        }
      ]
    },
    {
      "cell_type": "code",
      "metadata": {
        "id": "p9QQbjReyEHz",
        "colab_type": "code",
        "colab": {
          "base_uri": "https://localhost:8080/",
          "height": 286
        },
        "outputId": "c12e9bca-007a-47df-aaf8-e5177308f649"
      },
      "source": [
        "test_image_id= 3\n",
        "\n",
        "def denormalize(tensor):\n",
        "  tensor = tensor*std+ mean\n",
        "  return tensor\n",
        "\n",
        "def show_img(img):\n",
        "  img = img.numpy().transpose((1,2,0))\n",
        "  img = denormalize(img)\n",
        "  img = np.clip(img,0,1)\n",
        "  plt.imshow(img)\n",
        "  \n",
        "def get_CIFAR10_class(id):\n",
        "  CIFAR10_classes = ['plane', 'car', 'bird', 'cat',\n",
        "           'deer', 'dog', 'frog', 'horse', 'ship', 'truck']\n",
        "  return CIFAR10_classes[id]\n",
        "\n",
        "show_img(images[test_image_id])\n",
        "print(get_CIFAR10_class(pred[test_image_id]))"
      ],
      "execution_count": 18,
      "outputs": [
        {
          "output_type": "stream",
          "text": [
            "ship\n"
          ],
          "name": "stdout"
        },
        {
          "output_type": "display_data",
          "data": {
            "image/png": "[encoded data removed]",
            "text/plain": [
              "<Figure size 432x288 with 1 Axes>"
            ]
          },
          "metadata": {
            "tags": [],
            "needs_background": "light"
          }
        }
      ]
    },
    {
      "cell_type": "markdown",
      "metadata": {
        "id": "icQvTdftMkPq",
        "colab_type": "text"
      },
      "source": [
        "## Viewing images & normalization - Under the hood"
      ]
    },
    {
      "cell_type": "code",
      "metadata": {
        "id": "Pr1K5dNN5pzP",
        "colab_type": "code",
        "colab": {
          "base_uri": "https://localhost:8080/",
          "height": 68
        },
        "outputId": "92bd71ea-63ca-4cdd-8687-af75cf44c144"
      },
      "source": [
        "pred"
      ],
      "execution_count": 19,
      "outputs": [
        {
          "output_type": "execute_result",
          "data": {
            "text/plain": [
              "tensor([3, 1, 1, 8, 4, 6, 9, 3, 4, 1, 0, 9, 3, 6, 9, 2, 3, 3, 8, 6, 7, 0, 2, 9,\n",
              "        4, 5, 6, 2, 9, 6, 6, 4, 2, 5, 9, 2, 4, 9, 9, 5, 4, 6, 7, 6, 8, 9, 5, 7,\n",
              "        4, 2, 9, 2, 2, 6, 8, 2, 6, 3, 3, 3, 7, 3, 6, 3])"
            ]
          },
          "metadata": {
            "tags": []
          },
          "execution_count": 19
        }
      ]
    },
    {
      "cell_type": "code",
      "metadata": {
        "id": "_hKzHym-5pxB",
        "colab_type": "code",
        "colab": {
          "base_uri": "https://localhost:8080/",
          "height": 34
        },
        "outputId": "5b3e0e40-18d8-4868-c5a9-d6a8d19d8ac3"
      },
      "source": [
        "images.size()"
      ],
      "execution_count": 20,
      "outputs": [
        {
          "output_type": "execute_result",
          "data": {
            "text/plain": [
              "torch.Size([64, 3, 224, 224])"
            ]
          },
          "metadata": {
            "tags": []
          },
          "execution_count": 20
        }
      ]
    },
    {
      "cell_type": "code",
      "metadata": {
        "id": "k8W05wbQ5puy",
        "colab_type": "code",
        "colab": {
          "base_uri": "https://localhost:8080/",
          "height": 34
        },
        "outputId": "e601d6b5-2836-401a-ef50-36978b5dfe10"
      },
      "source": [
        "images[0].size()"
      ],
      "execution_count": 21,
      "outputs": [
        {
          "output_type": "execute_result",
          "data": {
            "text/plain": [
              "torch.Size([3, 224, 224])"
            ]
          },
          "metadata": {
            "tags": []
          },
          "execution_count": 21
        }
      ]
    },
    {
      "cell_type": "code",
      "metadata": {
        "id": "-VuaqkSl5psb",
        "colab_type": "code",
        "colab": {}
      },
      "source": [
        "plt.imshow()"
      ],
      "execution_count": null,
      "outputs": []
    },
    {
      "cell_type": "code",
      "metadata": {
        "id": "tvDymgRD5pqC",
        "colab_type": "code",
        "colab": {
          "base_uri": "https://localhost:8080/",
          "height": 286
        },
        "outputId": "e78f8910-6715-4a31-d9f1-72f49fcdf155"
      },
      "source": [
        "plt.imshow(np.clip(np.transpose(images[test_image_id],(1,2,0)),0,1))"
      ],
      "execution_count": 25,
      "outputs": [
        {
          "output_type": "execute_result",
          "data": {
            "text/plain": [
              "<matplotlib.image.AxesImage at 0x7f540db24e48>"
            ]
          },
          "metadata": {
            "tags": []
          },
          "execution_count": 25
        },
        {
          "output_type": "display_data",
          "data": {
            "image/png": "[encoded data removed]",
            "text/plain": [
              "<Figure size 432x288 with 1 Axes>"
            ]
          },
          "metadata": {
            "tags": [],
            "needs_background": "light"
          }
        }
      ]
    },
    {
      "cell_type": "code",
      "metadata": {
        "id": "mTUg6-_m5pnq",
        "colab_type": "code",
        "colab": {}
      },
      "source": [
        "z = (x- mean)/ std"
      ],
      "execution_count": null,
      "outputs": []
    },
    {
      "cell_type": "code",
      "metadata": {
        "id": "NRvmkAmD5pgh",
        "colab_type": "code",
        "colab": {
          "base_uri": "https://localhost:8080/",
          "height": 269
        },
        "outputId": "56499194-bbbf-4ecf-fa0c-d195edb85b7e"
      },
      "source": [
        "show_img(images[6])"
      ],
      "execution_count": 28,
      "outputs": [
        {
          "output_type": "display_data",
          "data": {
            "image/png": "[encoded data removed]",
            "text/plain": [
              "<Figure size 432x288 with 1 Axes>"
            ]
          },
          "metadata": {
            "tags": [],
            "needs_background": "light"
          }
        }
      ]
    },
    {
      "cell_type": "code",
      "metadata": {
        "id": "8OQPRoyO5pd7",
        "colab_type": "code",
        "colab": {
          "base_uri": "https://localhost:8080/",
          "height": 269
        },
        "outputId": "b25b45a7-01e9-4520-cf33-15ad801aea96"
      },
      "source": [
        "show_img(images[2])"
      ],
      "execution_count": 29,
      "outputs": [
        {
          "output_type": "display_data",
          "data": {
            "image/png": "[encoded data removed]",
            "text/plain": [
              "<Figure size 432x288 with 1 Axes>"
            ]
          },
          "metadata": {
            "tags": [],
            "needs_background": "light"
          }
        }
      ]
    },
    {
      "cell_type": "code",
      "metadata": {
        "id": "ukrPQ7mqMxI6",
        "colab_type": "code",
        "colab": {}
      },
      "source": [
        ""
      ],
      "execution_count": null,
      "outputs": []
    },
    {
      "cell_type": "markdown",
      "metadata": {
        "id": "lCoFRFofMx7p",
        "colab_type": "text"
      },
      "source": [
        "## Accuracy of the model"
      ]
    },
    {
      "cell_type": "code",
      "metadata": {
        "colab_type": "code",
        "id": "AxTiil7cXOAz",
        "colab": {
          "base_uri": "https://localhost:8080/",
          "height": 1000
        },
        "outputId": "6c0218f0-1e10-4580-9409-a616238fb595"
      },
      "source": [
        "model.eval()\n",
        "with torch.no_grad():\n",
        "    num_correct = 0\n",
        "    total = 0\n",
        "\n",
        "    cnt = 0\n",
        "    #set_trace()\n",
        "    for images, labels in testloader:\n",
        "        \n",
        "        logps = model(images)\n",
        "        output = torch.exp(logps)\n",
        "        print(output)\n",
        "        cnt+=1\n",
        "        \n",
        "        if cnt > 0:\n",
        "          break"
      ],
      "execution_count": 30,
      "outputs": [
        {
          "output_type": "stream",
          "text": [
            "tensor([[8.9535e-03, 7.5406e-03, 5.6266e-02, 3.7977e-01, 4.3507e-02, 3.1659e-01,\n",
            "         1.0192e-01, 4.9868e-02, 1.0199e-02, 2.5390e-02],\n",
            "        [1.4623e-01, 7.1989e-01, 5.1238e-04, 1.3510e-04, 1.4238e-04, 5.9781e-05,\n",
            "         4.5455e-05, 7.0501e-05, 1.1587e-01, 1.7052e-02],\n",
            "        [7.6202e-02, 4.1724e-01, 1.2448e-02, 1.7354e-02, 3.4782e-03, 7.3347e-03,\n",
            "         4.8429e-03, 5.1707e-03, 3.4122e-01, 1.1471e-01],\n",
            "        [1.3886e-01, 6.0757e-02, 4.7615e-02, 2.6918e-02, 1.3427e-02, 9.1419e-03,\n",
            "         1.1009e-02, 1.1353e-02, 6.5229e-01, 2.8634e-02],\n",
            "        [1.4741e-03, 1.3981e-04, 2.3928e-01, 8.9422e-02, 4.2875e-01, 5.8464e-02,\n",
            "         1.7348e-01, 7.9596e-03, 3.3572e-04, 6.9183e-04],\n",
            "        [1.0207e-04, 3.0435e-05, 6.3103e-02, 2.0987e-01, 9.7681e-02, 1.0167e-01,\n",
            "         5.2187e-01, 5.4416e-03, 4.4075e-05, 1.9090e-04],\n",
            "        [1.3693e-02, 1.9323e-01, 2.1804e-02, 6.2643e-02, 8.6214e-03, 6.0262e-02,\n",
            "         7.4197e-02, 1.2132e-02, 1.1946e-02, 5.4147e-01],\n",
            "        [1.4617e-03, 1.0735e-04, 2.1588e-01, 2.3661e-01, 2.1690e-01, 1.6496e-01,\n",
            "         1.5458e-01, 8.1773e-03, 5.1276e-04, 8.0857e-04],\n",
            "        [1.0460e-03, 1.6801e-04, 1.2542e-01, 1.7308e-01, 3.3009e-01, 3.0001e-01,\n",
            "         3.9656e-02, 2.9262e-02, 2.6807e-04, 9.9804e-04],\n",
            "        [1.2966e-01, 5.2664e-01, 2.0331e-02, 2.1442e-02, 1.6875e-02, 1.8949e-02,\n",
            "         1.7687e-02, 2.0385e-02, 9.0082e-02, 1.3796e-01],\n",
            "        [2.7842e-01, 3.3360e-03, 1.5719e-01, 1.0125e-01, 5.3014e-02, 5.4562e-02,\n",
            "         5.0269e-02, 1.8006e-02, 2.6814e-01, 1.5822e-02],\n",
            "        [3.9286e-04, 8.3121e-03, 6.8613e-06, 3.1989e-04, 3.5805e-06, 1.9961e-04,\n",
            "         3.1605e-05, 5.9558e-05, 1.7924e-04, 9.9049e-01],\n",
            "        [1.1530e-03, 3.6799e-04, 1.0573e-01, 2.8338e-01, 1.7292e-01, 2.2646e-01,\n",
            "         1.8713e-01, 2.1047e-02, 4.6407e-04, 1.3524e-03],\n",
            "        [1.2688e-03, 1.6653e-03, 7.2822e-02, 1.4048e-01, 1.1034e-01, 1.2248e-01,\n",
            "         5.1958e-01, 2.4836e-02, 6.4897e-04, 5.8812e-03],\n",
            "        [4.4509e-03, 5.8124e-03, 1.0983e-04, 5.6815e-03, 1.3188e-04, 1.0099e-03,\n",
            "         4.7237e-04, 1.6336e-03, 1.7098e-03, 9.7899e-01],\n",
            "        [6.6598e-02, 2.4477e-03, 3.4201e-01, 1.1741e-01, 9.7839e-02, 6.2701e-02,\n",
            "         1.9584e-01, 1.8255e-02, 8.6886e-02, 1.0013e-02],\n",
            "        [1.5188e-03, 1.0514e-03, 7.6068e-02, 4.7385e-01, 3.6482e-02, 3.2225e-01,\n",
            "         6.2393e-02, 1.8328e-02, 1.7836e-03, 6.2760e-03],\n",
            "        [4.6607e-02, 2.7204e-02, 8.9503e-02, 1.8194e-01, 1.3823e-01, 1.5096e-01,\n",
            "         9.4782e-02, 1.3543e-01, 3.9161e-02, 9.6180e-02],\n",
            "        [6.8275e-02, 1.6223e-03, 4.2652e-03, 4.4683e-03, 1.8199e-03, 5.7130e-04,\n",
            "         1.5132e-03, 1.6251e-03, 9.0498e-01, 1.0864e-02],\n",
            "        [4.0621e-05, 2.3098e-06, 4.1092e-02, 5.0053e-03, 9.3948e-02, 1.5012e-03,\n",
            "         8.5807e-01, 3.3652e-04, 3.1197e-06, 5.9015e-06],\n",
            "        [3.2645e-04, 9.9911e-05, 5.1661e-03, 4.3197e-03, 1.3655e-01, 2.9674e-02,\n",
            "         4.9153e-04, 8.2297e-01, 2.6014e-05, 3.6893e-04],\n",
            "        [7.5373e-01, 3.6364e-04, 1.5997e-01, 1.1492e-02, 2.5528e-02, 6.3831e-03,\n",
            "         5.1258e-03, 2.7260e-03, 3.2899e-02, 1.7827e-03],\n",
            "        [3.4129e-02, 1.8926e-04, 5.0791e-01, 5.4390e-02, 3.2386e-01, 5.0847e-02,\n",
            "         1.6726e-02, 6.6751e-03, 3.8363e-03, 1.4343e-03],\n",
            "        [9.2118e-04, 1.1816e-01, 1.0142e-05, 1.8079e-04, 1.4256e-05, 1.5093e-04,\n",
            "         1.6939e-04, 1.5273e-04, 2.2432e-04, 8.8002e-01],\n",
            "        [1.8673e-03, 9.0127e-05, 2.6553e-01, 5.4730e-02, 5.2955e-01, 9.0570e-02,\n",
            "         4.5038e-02, 1.1688e-02, 3.0888e-04, 6.2704e-04],\n",
            "        [9.7989e-03, 1.5060e-03, 2.7554e-01, 7.3206e-02, 1.9381e-01, 3.3483e-01,\n",
            "         3.4152e-02, 6.5824e-02, 2.6584e-03, 8.6704e-03],\n",
            "        [8.5932e-04, 4.9405e-05, 1.8326e-01, 3.9764e-02, 3.6067e-01, 3.1194e-02,\n",
            "         3.7878e-01, 5.0342e-03, 1.2326e-04, 2.5712e-04],\n",
            "        [9.2719e-02, 3.1431e-03, 3.2873e-01, 1.3311e-01, 1.7443e-01, 1.2347e-01,\n",
            "         7.6452e-02, 3.1685e-02, 2.5854e-02, 1.0412e-02],\n",
            "        [2.9076e-02, 5.5454e-02, 2.4925e-02, 1.7412e-01, 3.6021e-02, 8.5066e-02,\n",
            "         6.2376e-02, 5.2280e-02, 2.1146e-02, 4.5953e-01],\n",
            "        [1.0037e-03, 1.2489e-04, 2.7464e-01, 9.0776e-02, 1.0688e-01, 8.0655e-02,\n",
            "         4.4018e-01, 4.2885e-03, 5.4982e-04, 9.0381e-04],\n",
            "        [7.7836e-05, 2.9883e-05, 3.7642e-02, 6.2460e-02, 4.1353e-02, 3.1769e-02,\n",
            "         8.2421e-01, 2.2868e-03, 3.5692e-05, 1.3062e-04],\n",
            "        [5.8707e-04, 1.5174e-05, 1.2437e-01, 4.3774e-02, 6.9438e-01, 9.7519e-02,\n",
            "         2.8285e-02, 1.0894e-02, 4.2207e-05, 1.2846e-04],\n",
            "        [2.0718e-03, 9.5594e-05, 4.3451e-01, 7.0054e-02, 2.6089e-01, 5.5568e-02,\n",
            "         1.7082e-01, 5.0372e-03, 4.0619e-04, 5.4674e-04],\n",
            "        [7.7530e-04, 2.3882e-04, 8.9675e-02, 2.9300e-01, 1.3259e-01, 4.0098e-01,\n",
            "         6.0887e-02, 2.0096e-02, 3.1593e-04, 1.4393e-03],\n",
            "        [4.2053e-02, 1.2136e-02, 7.0931e-04, 5.9691e-03, 1.0220e-03, 1.9601e-03,\n",
            "         2.0604e-03, 1.3009e-02, 1.1842e-02, 9.0924e-01],\n",
            "        [3.4732e-03, 1.0001e-03, 2.1652e-01, 2.0197e-01, 1.9070e-01, 1.6797e-01,\n",
            "         1.8946e-01, 2.0619e-02, 1.6292e-03, 6.6638e-03],\n",
            "        [1.8354e-03, 1.6959e-04, 1.7116e-01, 8.3843e-02, 3.6572e-01, 2.5310e-01,\n",
            "         8.1608e-02, 4.1126e-02, 3.3324e-04, 1.1093e-03],\n",
            "        [3.5565e-02, 3.9104e-01, 5.8268e-03, 1.2817e-02, 6.2275e-03, 1.3194e-02,\n",
            "         7.6255e-03, 1.1302e-02, 1.8418e-02, 4.9798e-01],\n",
            "        [3.9619e-02, 1.4810e-01, 3.1531e-03, 1.9183e-02, 3.2343e-03, 1.0017e-02,\n",
            "         1.3055e-02, 1.1825e-02, 2.3155e-02, 7.2866e-01],\n",
            "        [2.6823e-03, 5.8508e-04, 1.3126e-01, 3.3452e-01, 3.5888e-02, 4.2001e-01,\n",
            "         5.8289e-02, 1.0621e-02, 3.1720e-03, 2.9648e-03],\n",
            "        [1.0990e-01, 1.0072e-02, 2.1387e-01, 5.8363e-02, 2.9594e-01, 6.1996e-02,\n",
            "         5.7556e-02, 1.4745e-01, 1.9960e-02, 2.4893e-02],\n",
            "        [1.5260e-03, 6.7723e-04, 1.1780e-01, 1.4824e-01, 9.3859e-02, 6.9182e-02,\n",
            "         5.5353e-01, 1.2218e-02, 9.8958e-04, 1.9720e-03],\n",
            "        [3.1243e-03, 5.3990e-04, 4.1829e-02, 8.5410e-02, 1.4388e-01, 1.5685e-01,\n",
            "         3.3953e-02, 5.2844e-01, 1.0274e-03, 4.9361e-03],\n",
            "        [1.5070e-03, 2.3250e-04, 1.4079e-01, 5.4702e-02, 2.5262e-01, 7.0615e-02,\n",
            "         4.6011e-01, 1.8231e-02, 3.7150e-04, 8.2457e-04],\n",
            "        [2.6069e-01, 1.3209e-02, 2.2721e-01, 2.7740e-02, 3.4709e-02, 9.7561e-03,\n",
            "         1.8513e-02, 6.8682e-03, 3.3014e-01, 7.1170e-02],\n",
            "        [1.4278e-02, 5.9661e-02, 7.6496e-04, 8.2559e-03, 6.5769e-04, 4.6241e-03,\n",
            "         2.5257e-03, 3.1814e-03, 7.4583e-03, 8.9859e-01],\n",
            "        [1.1081e-03, 1.7466e-04, 6.9753e-02, 3.8515e-01, 1.0380e-01, 3.9321e-01,\n",
            "         2.4033e-02, 2.0924e-02, 5.2501e-04, 1.3198e-03],\n",
            "        [4.3733e-02, 3.1031e-02, 5.2759e-02, 1.9043e-01, 7.1114e-02, 1.3215e-01,\n",
            "         6.4695e-02, 2.2142e-01, 4.8274e-02, 1.4440e-01],\n",
            "        [1.3096e-04, 9.5736e-06, 1.5928e-02, 2.1946e-03, 5.6777e-01, 3.1779e-02,\n",
            "         1.5893e-03, 3.8055e-01, 5.8531e-06, 4.9799e-05],\n",
            "        [3.5031e-03, 3.2343e-05, 5.4740e-01, 1.9901e-02, 2.8695e-01, 1.2845e-02,\n",
            "         1.2696e-01, 1.9046e-03, 2.8822e-04, 2.1330e-04],\n",
            "        [4.6837e-03, 3.5730e-03, 3.4269e-04, 6.1713e-03, 2.8783e-04, 1.7323e-03,\n",
            "         1.3302e-03, 3.7230e-03, 7.5228e-03, 9.7063e-01],\n",
            "        [4.9968e-02, 2.2168e-03, 5.4118e-01, 6.4679e-02, 9.4688e-02, 3.5143e-02,\n",
            "         6.5220e-02, 1.2637e-02, 1.1026e-01, 2.4006e-02],\n",
            "        [3.9868e-03, 2.5767e-04, 4.5420e-01, 6.3135e-02, 1.4418e-01, 3.3476e-02,\n",
            "         2.9354e-01, 4.1512e-03, 1.5846e-03, 1.4947e-03],\n",
            "        [1.2503e-03, 6.4240e-04, 1.2041e-01, 2.1167e-01, 9.2134e-02, 1.2687e-01,\n",
            "         4.3029e-01, 1.2141e-02, 9.6660e-04, 3.6269e-03],\n",
            "        [1.1746e-02, 7.3955e-04, 2.2902e-04, 1.0820e-04, 2.2611e-05, 5.3373e-06,\n",
            "         1.0182e-05, 2.3039e-05, 9.8681e-01, 3.0551e-04],\n",
            "        [1.7181e-01, 7.4386e-04, 4.3128e-01, 5.6527e-02, 2.3420e-02, 2.7669e-02,\n",
            "         1.7473e-02, 6.9961e-03, 2.5479e-01, 9.2946e-03],\n",
            "        [1.7638e-03, 5.9929e-04, 6.4721e-02, 7.1450e-02, 2.4655e-01, 1.1447e-01,\n",
            "         3.0950e-01, 1.8804e-01, 4.2087e-04, 2.4839e-03],\n",
            "        [1.7838e-02, 5.7379e-03, 1.8239e-01, 2.6010e-01, 6.9259e-02, 1.3979e-01,\n",
            "         2.4478e-01, 3.6148e-02, 2.8916e-02, 1.5052e-02],\n",
            "        [1.0975e-02, 2.2884e-03, 1.1259e-01, 3.1404e-01, 5.2505e-02, 2.3150e-01,\n",
            "         2.0637e-01, 3.6711e-02, 1.9838e-02, 1.3184e-02],\n",
            "        [2.5549e-04, 1.8232e-04, 1.7196e-02, 4.5801e-01, 3.7480e-02, 4.3344e-01,\n",
            "         3.4303e-02, 1.8180e-02, 1.6747e-04, 7.8951e-04],\n",
            "        [1.1472e-04, 1.3865e-05, 1.6196e-02, 5.0408e-03, 4.2683e-01, 7.0578e-02,\n",
            "         2.5881e-03, 4.7853e-01, 9.5916e-06, 9.6623e-05],\n",
            "        [1.0853e-03, 2.0457e-04, 1.7697e-01, 3.0547e-01, 1.3865e-01, 2.1300e-01,\n",
            "         1.5117e-01, 1.1279e-02, 6.2290e-04, 1.5450e-03],\n",
            "        [1.6245e-03, 9.3010e-05, 1.3138e-01, 2.5598e-02, 1.5995e-01, 1.1188e-02,\n",
            "         6.6693e-01, 2.6814e-03, 2.8576e-04, 2.6889e-04],\n",
            "        [1.2287e-01, 1.8502e-02, 1.5592e-01, 2.4825e-01, 5.5461e-02, 1.8088e-01,\n",
            "         2.8323e-02, 5.3041e-02, 9.4444e-02, 4.2306e-02]])\n"
          ],
          "name": "stdout"
        }
      ]
    },
    {
      "cell_type": "code",
      "metadata": {
        "id": "_x2rAAjzc100",
        "colab_type": "code",
        "colab": {}
      },
      "source": [
        "model.eval()\n",
        "with torch.no_grad():\n",
        "    num_correct = 0\n",
        "    total = 0\n",
        "\n",
        "    cnt = 0\n",
        "\n",
        "    for images, labels in testloader:\n",
        "        \n",
        "        logps = model(images)\n",
        "        output = torch.exp(logps)\n",
        "\n",
        "        pred = torch.argmax(output, 1)\n",
        "        total += labels.size(0)        \n",
        "\n",
        "        cnt+=1\n",
        "        \n",
        "        if cnt > 0:\n",
        "          break"
      ],
      "execution_count": 31,
      "outputs": []
    },
    {
      "cell_type": "code",
      "metadata": {
        "id": "VXY13lXc51Dc",
        "colab_type": "code",
        "colab": {}
      },
      "source": [
        ""
      ],
      "execution_count": null,
      "outputs": []
    },
    {
      "cell_type": "code",
      "metadata": {
        "id": "dqjOGQZP--H4",
        "colab_type": "code",
        "colab": {
          "base_uri": "https://localhost:8080/",
          "height": 119
        },
        "outputId": "5197bd00-94f7-4e8d-d175-c10cd0dafd41"
      },
      "source": [
        "model.eval()\n",
        "with torch.no_grad():\n",
        "    num_correct = 0\n",
        "    total = 0\n",
        "\n",
        "\n",
        "    for batch, (images, labels) in enumerate(testloader,1):\n",
        "        \n",
        "        logps = model(images)\n",
        "        output = torch.exp(logps)\n",
        "        \n",
        "        pred = torch.argmax(output, 1)\n",
        "        total += labels.size(0)\n",
        "        num_correct += (pred == labels).sum().item()\n",
        "        print(f'Batch ({batch}/{len(testloader)})')\n",
        "        \n",
        "        if batch == 5:\n",
        "          break\n",
        "\n",
        "    print(f'Accuracy of the model on {total} test images: {num_correct * 100 / total}% ')"
      ],
      "execution_count": 32,
      "outputs": [
        {
          "output_type": "stream",
          "text": [
            "Batch (1/157)\n",
            "Batch (2/157)\n",
            "Batch (3/157)\n",
            "Batch (4/157)\n",
            "Batch (5/157)\n",
            "Accuracy of the model on 320 test images: 50.625% \n"
          ],
          "name": "stdout"
        }
      ]
    },
    {
      "cell_type": "code",
      "metadata": {
        "id": "WM9bDDWZ59EJ",
        "colab_type": "code",
        "colab": {}
      },
      "source": [
        ""
      ],
      "execution_count": null,
      "outputs": []
    },
    {
      "cell_type": "code",
      "metadata": {
        "id": "ebWkjRO9XyCi",
        "colab_type": "code",
        "colab": {}
      },
      "source": [
        ""
      ],
      "execution_count": null,
      "outputs": []
    }
  ]
}